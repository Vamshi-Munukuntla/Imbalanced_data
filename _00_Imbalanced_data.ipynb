{
 "cells": [
  {
   "cell_type": "markdown",
   "id": "1ad97cbf-0ac2-48c2-a56e-025a382b8337",
   "metadata": {},
   "source": [
    "# Data Imbalance"
   ]
  },
  {
   "cell_type": "markdown",
   "id": "794cbdd0-3847-4b37-a0b5-64313dcd1b87",
   "metadata": {},
   "source": [
    "## Basics"
   ]
  },
  {
   "cell_type": "code",
   "execution_count": 1,
   "id": "d751391d-2826-4106-90bf-d1c6aaea0fee",
   "metadata": {},
   "outputs": [],
   "source": [
    "import numpy as np\n",
    "import pandas as pd\n",
    "import matplotlib.pyplot as plt\n",
    "import seaborn as sns\n",
    "import plotly.express as px\n",
    "%matplotlib inline\n",
    "import warnings\n",
    "warnings.filterwarnings('ignore')"
   ]
  },
  {
   "cell_type": "markdown",
   "id": "2bfac156-575d-4a67-b102-f3aaa4ff7397",
   "metadata": {},
   "source": [
    "Predict whether a customer will pay back a loan or not?\n",
    "\n",
    "Pay = 500;\n",
    "Do not pay = 20"
   ]
  },
  {
   "cell_type": "code",
   "execution_count": 2,
   "id": "30a57dba-34e2-4e6e-8286-cc2c27407d11",
   "metadata": {},
   "outputs": [],
   "source": [
    "df = pd.read_csv('datasets/creditcard.csv')"
   ]
  },
  {
   "cell_type": "code",
   "execution_count": 3,
   "id": "71107378-c003-438d-b1bf-5fe8846f7f48",
   "metadata": {},
   "outputs": [
    {
     "data": {
      "text/html": [
       "<div>\n",
       "<style scoped>\n",
       "    .dataframe tbody tr th:only-of-type {\n",
       "        vertical-align: middle;\n",
       "    }\n",
       "\n",
       "    .dataframe tbody tr th {\n",
       "        vertical-align: top;\n",
       "    }\n",
       "\n",
       "    .dataframe thead th {\n",
       "        text-align: right;\n",
       "    }\n",
       "</style>\n",
       "<table border=\"1\" class=\"dataframe\">\n",
       "  <thead>\n",
       "    <tr style=\"text-align: right;\">\n",
       "      <th></th>\n",
       "      <th>Time</th>\n",
       "      <th>V1</th>\n",
       "      <th>V2</th>\n",
       "      <th>V3</th>\n",
       "      <th>V4</th>\n",
       "      <th>V5</th>\n",
       "      <th>V6</th>\n",
       "      <th>V7</th>\n",
       "      <th>V8</th>\n",
       "      <th>V9</th>\n",
       "      <th>...</th>\n",
       "      <th>V21</th>\n",
       "      <th>V22</th>\n",
       "      <th>V23</th>\n",
       "      <th>V24</th>\n",
       "      <th>V25</th>\n",
       "      <th>V26</th>\n",
       "      <th>V27</th>\n",
       "      <th>V28</th>\n",
       "      <th>Amount</th>\n",
       "      <th>Class</th>\n",
       "    </tr>\n",
       "  </thead>\n",
       "  <tbody>\n",
       "    <tr>\n",
       "      <th>0</th>\n",
       "      <td>0.0</td>\n",
       "      <td>-1.359807</td>\n",
       "      <td>-0.072781</td>\n",
       "      <td>2.536347</td>\n",
       "      <td>1.378155</td>\n",
       "      <td>-0.338321</td>\n",
       "      <td>0.462388</td>\n",
       "      <td>0.239599</td>\n",
       "      <td>0.098698</td>\n",
       "      <td>0.363787</td>\n",
       "      <td>...</td>\n",
       "      <td>-0.018307</td>\n",
       "      <td>0.277838</td>\n",
       "      <td>-0.110474</td>\n",
       "      <td>0.066928</td>\n",
       "      <td>0.128539</td>\n",
       "      <td>-0.189115</td>\n",
       "      <td>0.133558</td>\n",
       "      <td>-0.021053</td>\n",
       "      <td>149.62</td>\n",
       "      <td>0</td>\n",
       "    </tr>\n",
       "    <tr>\n",
       "      <th>1</th>\n",
       "      <td>0.0</td>\n",
       "      <td>1.191857</td>\n",
       "      <td>0.266151</td>\n",
       "      <td>0.166480</td>\n",
       "      <td>0.448154</td>\n",
       "      <td>0.060018</td>\n",
       "      <td>-0.082361</td>\n",
       "      <td>-0.078803</td>\n",
       "      <td>0.085102</td>\n",
       "      <td>-0.255425</td>\n",
       "      <td>...</td>\n",
       "      <td>-0.225775</td>\n",
       "      <td>-0.638672</td>\n",
       "      <td>0.101288</td>\n",
       "      <td>-0.339846</td>\n",
       "      <td>0.167170</td>\n",
       "      <td>0.125895</td>\n",
       "      <td>-0.008983</td>\n",
       "      <td>0.014724</td>\n",
       "      <td>2.69</td>\n",
       "      <td>0</td>\n",
       "    </tr>\n",
       "    <tr>\n",
       "      <th>2</th>\n",
       "      <td>1.0</td>\n",
       "      <td>-1.358354</td>\n",
       "      <td>-1.340163</td>\n",
       "      <td>1.773209</td>\n",
       "      <td>0.379780</td>\n",
       "      <td>-0.503198</td>\n",
       "      <td>1.800499</td>\n",
       "      <td>0.791461</td>\n",
       "      <td>0.247676</td>\n",
       "      <td>-1.514654</td>\n",
       "      <td>...</td>\n",
       "      <td>0.247998</td>\n",
       "      <td>0.771679</td>\n",
       "      <td>0.909412</td>\n",
       "      <td>-0.689281</td>\n",
       "      <td>-0.327642</td>\n",
       "      <td>-0.139097</td>\n",
       "      <td>-0.055353</td>\n",
       "      <td>-0.059752</td>\n",
       "      <td>378.66</td>\n",
       "      <td>0</td>\n",
       "    </tr>\n",
       "    <tr>\n",
       "      <th>3</th>\n",
       "      <td>1.0</td>\n",
       "      <td>-0.966272</td>\n",
       "      <td>-0.185226</td>\n",
       "      <td>1.792993</td>\n",
       "      <td>-0.863291</td>\n",
       "      <td>-0.010309</td>\n",
       "      <td>1.247203</td>\n",
       "      <td>0.237609</td>\n",
       "      <td>0.377436</td>\n",
       "      <td>-1.387024</td>\n",
       "      <td>...</td>\n",
       "      <td>-0.108300</td>\n",
       "      <td>0.005274</td>\n",
       "      <td>-0.190321</td>\n",
       "      <td>-1.175575</td>\n",
       "      <td>0.647376</td>\n",
       "      <td>-0.221929</td>\n",
       "      <td>0.062723</td>\n",
       "      <td>0.061458</td>\n",
       "      <td>123.50</td>\n",
       "      <td>0</td>\n",
       "    </tr>\n",
       "    <tr>\n",
       "      <th>4</th>\n",
       "      <td>2.0</td>\n",
       "      <td>-1.158233</td>\n",
       "      <td>0.877737</td>\n",
       "      <td>1.548718</td>\n",
       "      <td>0.403034</td>\n",
       "      <td>-0.407193</td>\n",
       "      <td>0.095921</td>\n",
       "      <td>0.592941</td>\n",
       "      <td>-0.270533</td>\n",
       "      <td>0.817739</td>\n",
       "      <td>...</td>\n",
       "      <td>-0.009431</td>\n",
       "      <td>0.798278</td>\n",
       "      <td>-0.137458</td>\n",
       "      <td>0.141267</td>\n",
       "      <td>-0.206010</td>\n",
       "      <td>0.502292</td>\n",
       "      <td>0.219422</td>\n",
       "      <td>0.215153</td>\n",
       "      <td>69.99</td>\n",
       "      <td>0</td>\n",
       "    </tr>\n",
       "  </tbody>\n",
       "</table>\n",
       "<p>5 rows × 31 columns</p>\n",
       "</div>"
      ],
      "text/plain": [
       "   Time        V1        V2        V3        V4        V5        V6        V7  \\\n",
       "0   0.0 -1.359807 -0.072781  2.536347  1.378155 -0.338321  0.462388  0.239599   \n",
       "1   0.0  1.191857  0.266151  0.166480  0.448154  0.060018 -0.082361 -0.078803   \n",
       "2   1.0 -1.358354 -1.340163  1.773209  0.379780 -0.503198  1.800499  0.791461   \n",
       "3   1.0 -0.966272 -0.185226  1.792993 -0.863291 -0.010309  1.247203  0.237609   \n",
       "4   2.0 -1.158233  0.877737  1.548718  0.403034 -0.407193  0.095921  0.592941   \n",
       "\n",
       "         V8        V9  ...       V21       V22       V23       V24       V25  \\\n",
       "0  0.098698  0.363787  ... -0.018307  0.277838 -0.110474  0.066928  0.128539   \n",
       "1  0.085102 -0.255425  ... -0.225775 -0.638672  0.101288 -0.339846  0.167170   \n",
       "2  0.247676 -1.514654  ...  0.247998  0.771679  0.909412 -0.689281 -0.327642   \n",
       "3  0.377436 -1.387024  ... -0.108300  0.005274 -0.190321 -1.175575  0.647376   \n",
       "4 -0.270533  0.817739  ... -0.009431  0.798278 -0.137458  0.141267 -0.206010   \n",
       "\n",
       "        V26       V27       V28  Amount  Class  \n",
       "0 -0.189115  0.133558 -0.021053  149.62      0  \n",
       "1  0.125895 -0.008983  0.014724    2.69      0  \n",
       "2 -0.139097 -0.055353 -0.059752  378.66      0  \n",
       "3 -0.221929  0.062723  0.061458  123.50      0  \n",
       "4  0.502292  0.219422  0.215153   69.99      0  \n",
       "\n",
       "[5 rows x 31 columns]"
      ]
     },
     "execution_count": 3,
     "metadata": {},
     "output_type": "execute_result"
    }
   ],
   "source": [
    "df.head()"
   ]
  },
  {
   "cell_type": "code",
   "execution_count": 4,
   "id": "123f28ca-d955-4195-a582-75ecdac4b05f",
   "metadata": {},
   "outputs": [],
   "source": [
    "def missing_values_df(data):\n",
    "    null_values = data.isna().sum().sort_values(ascending=False)\n",
    "    percentage_of_null_values = data.isna().mean().sort_values(ascending=False)*100\n",
    "    missing_values = pd.DataFrame({\"Null_values\":null_values,\n",
    "                                   \"pct_of_null_values\":percentage_of_null_values})\n",
    "    null_counts = df.isna().mean().sort_values(ascending=False)\n",
    "    plt.figure(figsize=(16,8))\n",
    "    plt.xticks(np.arange(len(null_counts)), null_counts.index,rotation='vertical')\n",
    "    plt.ylabel('Fraction of rows with missing data')\n",
    "    plt.bar(np.arange(len(null_counts)),null_counts)\n",
    "    plt.show()\n",
    "    return missing_values"
   ]
  },
  {
   "cell_type": "code",
   "execution_count": 5,
   "id": "b1e0d807-c286-4e27-aac9-30732b2c6560",
   "metadata": {},
   "outputs": [
    {
     "data": {
      "image/png": "[encoded data removed]",
      "text/plain": [
       "<Figure size 1600x800 with 1 Axes>"
      ]
     },
     "metadata": {},
     "output_type": "display_data"
    },
    {
     "data": {
      "text/html": [
       "<div>\n",
       "<style scoped>\n",
       "    .dataframe tbody tr th:only-of-type {\n",
       "        vertical-align: middle;\n",
       "    }\n",
       "\n",
       "    .dataframe tbody tr th {\n",
       "        vertical-align: top;\n",
       "    }\n",
       "\n",
       "    .dataframe thead th {\n",
       "        text-align: right;\n",
       "    }\n",
       "</style>\n",
       "<table border=\"1\" class=\"dataframe\">\n",
       "  <thead>\n",
       "    <tr style=\"text-align: right;\">\n",
       "      <th></th>\n",
       "      <th>Null_values</th>\n",
       "      <th>pct_of_null_values</th>\n",
       "    </tr>\n",
       "  </thead>\n",
       "  <tbody>\n",
       "    <tr>\n",
       "      <th>Time</th>\n",
       "      <td>0</td>\n",
       "      <td>0.0</td>\n",
       "    </tr>\n",
       "    <tr>\n",
       "      <th>V16</th>\n",
       "      <td>0</td>\n",
       "      <td>0.0</td>\n",
       "    </tr>\n",
       "    <tr>\n",
       "      <th>Amount</th>\n",
       "      <td>0</td>\n",
       "      <td>0.0</td>\n",
       "    </tr>\n",
       "    <tr>\n",
       "      <th>V28</th>\n",
       "      <td>0</td>\n",
       "      <td>0.0</td>\n",
       "    </tr>\n",
       "    <tr>\n",
       "      <th>V27</th>\n",
       "      <td>0</td>\n",
       "      <td>0.0</td>\n",
       "    </tr>\n",
       "    <tr>\n",
       "      <th>V26</th>\n",
       "      <td>0</td>\n",
       "      <td>0.0</td>\n",
       "    </tr>\n",
       "    <tr>\n",
       "      <th>V25</th>\n",
       "      <td>0</td>\n",
       "      <td>0.0</td>\n",
       "    </tr>\n",
       "    <tr>\n",
       "      <th>V24</th>\n",
       "      <td>0</td>\n",
       "      <td>0.0</td>\n",
       "    </tr>\n",
       "    <tr>\n",
       "      <th>V23</th>\n",
       "      <td>0</td>\n",
       "      <td>0.0</td>\n",
       "    </tr>\n",
       "    <tr>\n",
       "      <th>V22</th>\n",
       "      <td>0</td>\n",
       "      <td>0.0</td>\n",
       "    </tr>\n",
       "    <tr>\n",
       "      <th>V21</th>\n",
       "      <td>0</td>\n",
       "      <td>0.0</td>\n",
       "    </tr>\n",
       "    <tr>\n",
       "      <th>V20</th>\n",
       "      <td>0</td>\n",
       "      <td>0.0</td>\n",
       "    </tr>\n",
       "    <tr>\n",
       "      <th>V19</th>\n",
       "      <td>0</td>\n",
       "      <td>0.0</td>\n",
       "    </tr>\n",
       "    <tr>\n",
       "      <th>V18</th>\n",
       "      <td>0</td>\n",
       "      <td>0.0</td>\n",
       "    </tr>\n",
       "    <tr>\n",
       "      <th>V17</th>\n",
       "      <td>0</td>\n",
       "      <td>0.0</td>\n",
       "    </tr>\n",
       "    <tr>\n",
       "      <th>V15</th>\n",
       "      <td>0</td>\n",
       "      <td>0.0</td>\n",
       "    </tr>\n",
       "    <tr>\n",
       "      <th>V1</th>\n",
       "      <td>0</td>\n",
       "      <td>0.0</td>\n",
       "    </tr>\n",
       "    <tr>\n",
       "      <th>V14</th>\n",
       "      <td>0</td>\n",
       "      <td>0.0</td>\n",
       "    </tr>\n",
       "    <tr>\n",
       "      <th>V13</th>\n",
       "      <td>0</td>\n",
       "      <td>0.0</td>\n",
       "    </tr>\n",
       "    <tr>\n",
       "      <th>V12</th>\n",
       "      <td>0</td>\n",
       "      <td>0.0</td>\n",
       "    </tr>\n",
       "    <tr>\n",
       "      <th>V11</th>\n",
       "      <td>0</td>\n",
       "      <td>0.0</td>\n",
       "    </tr>\n",
       "    <tr>\n",
       "      <th>V10</th>\n",
       "      <td>0</td>\n",
       "      <td>0.0</td>\n",
       "    </tr>\n",
       "    <tr>\n",
       "      <th>V9</th>\n",
       "      <td>0</td>\n",
       "      <td>0.0</td>\n",
       "    </tr>\n",
       "    <tr>\n",
       "      <th>V8</th>\n",
       "      <td>0</td>\n",
       "      <td>0.0</td>\n",
       "    </tr>\n",
       "    <tr>\n",
       "      <th>V7</th>\n",
       "      <td>0</td>\n",
       "      <td>0.0</td>\n",
       "    </tr>\n",
       "    <tr>\n",
       "      <th>V6</th>\n",
       "      <td>0</td>\n",
       "      <td>0.0</td>\n",
       "    </tr>\n",
       "    <tr>\n",
       "      <th>V5</th>\n",
       "      <td>0</td>\n",
       "      <td>0.0</td>\n",
       "    </tr>\n",
       "    <tr>\n",
       "      <th>V4</th>\n",
       "      <td>0</td>\n",
       "      <td>0.0</td>\n",
       "    </tr>\n",
       "    <tr>\n",
       "      <th>V3</th>\n",
       "      <td>0</td>\n",
       "      <td>0.0</td>\n",
       "    </tr>\n",
       "    <tr>\n",
       "      <th>V2</th>\n",
       "      <td>0</td>\n",
       "      <td>0.0</td>\n",
       "    </tr>\n",
       "    <tr>\n",
       "      <th>Class</th>\n",
       "      <td>0</td>\n",
       "      <td>0.0</td>\n",
       "    </tr>\n",
       "  </tbody>\n",
       "</table>\n",
       "</div>"
      ],
      "text/plain": [
       "        Null_values  pct_of_null_values\n",
       "Time              0                 0.0\n",
       "V16               0                 0.0\n",
       "Amount            0                 0.0\n",
       "V28               0                 0.0\n",
       "V27               0                 0.0\n",
       "V26               0                 0.0\n",
       "V25               0                 0.0\n",
       "V24               0                 0.0\n",
       "V23               0                 0.0\n",
       "V22               0                 0.0\n",
       "V21               0                 0.0\n",
       "V20               0                 0.0\n",
       "V19               0                 0.0\n",
       "V18               0                 0.0\n",
       "V17               0                 0.0\n",
       "V15               0                 0.0\n",
       "V1                0                 0.0\n",
       "V14               0                 0.0\n",
       "V13               0                 0.0\n",
       "V12               0                 0.0\n",
       "V11               0                 0.0\n",
       "V10               0                 0.0\n",
       "V9                0                 0.0\n",
       "V8                0                 0.0\n",
       "V7                0                 0.0\n",
       "V6                0                 0.0\n",
       "V5                0                 0.0\n",
       "V4                0                 0.0\n",
       "V3                0                 0.0\n",
       "V2                0                 0.0\n",
       "Class             0                 0.0"
      ]
     },
     "execution_count": 5,
     "metadata": {},
     "output_type": "execute_result"
    }
   ],
   "source": [
    "missing_values_df(df)"
   ]
  },
  {
   "cell_type": "markdown",
   "id": "67ee4ecc-e362-4833-afa3-a58967362120",
   "metadata": {},
   "source": [
    "**Insights:**\n",
    "No Missing values in the dataset"
   ]
  },
  {
   "cell_type": "code",
   "execution_count": 7,
   "id": "58bb8d8c-c7f0-463d-9c36-52a367207b97",
   "metadata": {},
   "outputs": [
    {
     "data": {
      "text/plain": [
       "284807"
      ]
     },
     "execution_count": 7,
     "metadata": {},
     "output_type": "execute_result"
    }
   ],
   "source": [
    "df.shape[0]"
   ]
  },
  {
   "cell_type": "code",
   "execution_count": 8,
   "id": "67c8042e-6a9c-4ba7-9fe2-2562a2336a73",
   "metadata": {},
   "outputs": [
    {
     "data": {
      "text/plain": [
       "0    284315\n",
       "1       492\n",
       "Name: Class, dtype: int64"
      ]
     },
     "execution_count": 8,
     "metadata": {},
     "output_type": "execute_result"
    }
   ],
   "source": [
    "df['Class'].value_counts()"
   ]
  },
  {
   "cell_type": "code",
   "execution_count": 9,
   "id": "4fde3819-0517-48f2-a4de-d628fb892f18",
   "metadata": {},
   "outputs": [
    {
     "data": {
      "text/plain": [
       "0    99.827251\n",
       "1     0.172749\n",
       "Name: Class, dtype: float64"
      ]
     },
     "execution_count": 9,
     "metadata": {},
     "output_type": "execute_result"
    }
   ],
   "source": [
    "df['Class'].value_counts(normalize=True)*100"
   ]
  },
  {
   "cell_type": "code",
   "execution_count": 10,
   "id": "5000d0ce-b7c5-42d1-9bdf-191eb286a338",
   "metadata": {},
   "outputs": [],
   "source": [
    "def unique_values(df, variable, unique=10):\n",
    "    if df[variable].nunique() <= unique:\n",
    "        values = df[variable].value_counts()\n",
    "        pct = df[variable].value_counts(normalize=True)*100\n",
    "\n",
    "        df_value_counts = pd.DataFrame({'value_counts':values,\n",
    "                                        'Percentage':pct})\n",
    "        print(f'Column Name: {variable}')\n",
    "        return df_value_counts\n",
    "    else:\n",
    "        return f'There are more than {unique} Unique values in this column'"
   ]
  },
  {
   "cell_type": "code",
   "execution_count": 11,
   "id": "bafb200e-6c80-4ace-993b-4991c540f0d9",
   "metadata": {},
   "outputs": [
    {
     "name": "stdout",
     "output_type": "stream",
     "text": [
      "Column Name: Class\n"
     ]
    },
    {
     "data": {
      "text/html": [
       "<div>\n",
       "<style scoped>\n",
       "    .dataframe tbody tr th:only-of-type {\n",
       "        vertical-align: middle;\n",
       "    }\n",
       "\n",
       "    .dataframe tbody tr th {\n",
       "        vertical-align: top;\n",
       "    }\n",
       "\n",
       "    .dataframe thead th {\n",
       "        text-align: right;\n",
       "    }\n",
       "</style>\n",
       "<table border=\"1\" class=\"dataframe\">\n",
       "  <thead>\n",
       "    <tr style=\"text-align: right;\">\n",
       "      <th></th>\n",
       "      <th>value_counts</th>\n",
       "      <th>Percentage</th>\n",
       "    </tr>\n",
       "  </thead>\n",
       "  <tbody>\n",
       "    <tr>\n",
       "      <th>0</th>\n",
       "      <td>284315</td>\n",
       "      <td>99.827251</td>\n",
       "    </tr>\n",
       "    <tr>\n",
       "      <th>1</th>\n",
       "      <td>492</td>\n",
       "      <td>0.172749</td>\n",
       "    </tr>\n",
       "  </tbody>\n",
       "</table>\n",
       "</div>"
      ],
      "text/plain": [
       "   value_counts  Percentage\n",
       "0        284315   99.827251\n",
       "1           492    0.172749"
      ]
     },
     "execution_count": 11,
     "metadata": {},
     "output_type": "execute_result"
    }
   ],
   "source": [
    "unique_values(df, 'Class')"
   ]
  },
  {
   "cell_type": "code",
   "execution_count": 12,
   "id": "55a5c9c4-82dd-4a6b-bf87-775253b84c59",
   "metadata": {},
   "outputs": [],
   "source": [
    "fraud = len(df[df['Class']==1])\n",
    "not_fraud = len(df[df['Class']==0])"
   ]
  },
  {
   "cell_type": "code",
   "execution_count": 13,
   "id": "88f955b6-a815-4297-acbd-8073dd5d6081",
   "metadata": {},
   "outputs": [],
   "source": [
    "labels = 'Fraud','Not Fraud'\n",
    "sizes = [fraud,not_fraud]"
   ]
  },
  {
   "cell_type": "code",
   "execution_count": 14,
   "id": "44ad5454-2122-417c-838d-7a108a397946",
   "metadata": {},
   "outputs": [
    {
     "data": {
      "image/png": "[encoded data removed]",
      "text/plain": [
       "<Figure size 1000x900 with 1 Axes>"
      ]
     },
     "metadata": {},
     "output_type": "display_data"
    }
   ],
   "source": [
    "plt.figure(figsize=(10,9))\n",
    "plt.pie(sizes, labels=labels,\n",
    "        autopct='%1.1f%%', shadow=True, startangle=0)\n",
    "plt.title('Ratio of Fraud vs Non-Fraud', fontsize=20)\n",
    "sns.set_context('paper', font_scale=2)"
   ]
  },
  {
   "cell_type": "code",
   "execution_count": 19,
   "id": "c354dae3-ecf2-4bfc-a963-d40ef3f4a230",
   "metadata": {},
   "outputs": [],
   "source": [
    "X = df.iloc[:,:-1]\n",
    "y = df.iloc[:,-1]"
   ]
  },
  {
   "cell_type": "code",
   "execution_count": 20,
   "id": "4865036f-85f0-4cf0-bab9-2e0b23cb80c1",
   "metadata": {},
   "outputs": [],
   "source": [
    "from sklearn.model_selection import train_test_split\n",
    "from sklearn.dummy import DummyClassifier\n",
    "from sklearn.metrics import accuracy_score, f1_score,\\\n",
    "                confusion_matrix, recall_score, ConfusionMatrixDisplay"
   ]
  },
  {
   "cell_type": "code",
   "execution_count": 21,
   "id": "8fe00d8f-2623-4da1-8726-44ef863f9a37",
   "metadata": {},
   "outputs": [],
   "source": [
    "X_train, X_test, y_train, y_test = train_test_split(X,y, test_size=0.25, random_state=50)"
   ]
  },
  {
   "cell_type": "code",
   "execution_count": 17,
   "id": "77a359bb-ce5f-49c0-907a-ed373d330f53",
   "metadata": {},
   "outputs": [],
   "source": [
    "dummy_classifier = DummyClassifier(strategy='most_frequent')"
   ]
  },
  {
   "cell_type": "code",
   "execution_count": 18,
   "id": "37f55958-304a-472b-8e4a-c19b404be8c9",
   "metadata": {},
   "outputs": [
    {
     "data": {
      "text/html": [
       "<style>#sk-container-id-1 {color: black;background-color: white;}#sk-container-id-1 pre{padding: 0;}#sk-container-id-1 div.sk-toggleable {background-color: white;}#sk-container-id-1 label.sk-toggleable__label {cursor: pointer;display: block;width: 100%;margin-bottom: 0;padding: 0.3em;box-sizing: border-box;text-align: center;}#sk-container-id-1 label.sk-toggleable__label-arrow:before {content: \"▸\";float: left;margin-right: 0.25em;color: #696969;}#sk-container-id-1 label.sk-toggleable__label-arrow:hover:before {color: black;}#sk-container-id-1 div.sk-estimator:hover label.sk-toggleable__label-arrow:before {color: black;}#sk-container-id-1 div.sk-toggleable__content {max-height: 0;max-width: 0;overflow: hidden;text-align: left;background-color: #f0f8ff;}#sk-container-id-1 div.sk-toggleable__content pre {margin: 0.2em;color: black;border-radius: 0.25em;background-color: #f0f8ff;}#sk-container-id-1 input.sk-toggleable__control:checked~div.sk-toggleable__content {max-height: 200px;max-width: 100%;overflow: auto;}#sk-container-id-1 input.sk-toggleable__control:checked~label.sk-toggleable__label-arrow:before {content: \"▾\";}#sk-container-id-1 div.sk-estimator input.sk-toggleable__control:checked~label.sk-toggleable__label {background-color: #d4ebff;}#sk-container-id-1 div.sk-label input.sk-toggleable__control:checked~label.sk-toggleable__label {background-color: #d4ebff;}#sk-container-id-1 input.sk-hidden--visually {border: 0;clip: rect(1px 1px 1px 1px);clip: rect(1px, 1px, 1px, 1px);height: 1px;margin: -1px;overflow: hidden;padding: 0;position: absolute;width: 1px;}#sk-container-id-1 div.sk-estimator {font-family: monospace;background-color: #f0f8ff;border: 1px dotted black;border-radius: 0.25em;box-sizing: border-box;margin-bottom: 0.5em;}#sk-container-id-1 div.sk-estimator:hover {background-color: #d4ebff;}#sk-container-id-1 div.sk-parallel-item::after {content: \"\";width: 100%;border-bottom: 1px solid gray;flex-grow: 1;}#sk-container-id-1 div.sk-label:hover label.sk-toggleable__label {background-color: #d4ebff;}#sk-container-id-1 div.sk-serial::before {content: \"\";position: absolute;border-left: 1px solid gray;box-sizing: border-box;top: 0;bottom: 0;left: 50%;z-index: 0;}#sk-container-id-1 div.sk-serial {display: flex;flex-direction: column;align-items: center;background-color: white;padding-right: 0.2em;padding-left: 0.2em;position: relative;}#sk-container-id-1 div.sk-item {position: relative;z-index: 1;}#sk-container-id-1 div.sk-parallel {display: flex;align-items: stretch;justify-content: center;background-color: white;position: relative;}#sk-container-id-1 div.sk-item::before, #sk-container-id-1 div.sk-parallel-item::before {content: \"\";position: absolute;border-left: 1px solid gray;box-sizing: border-box;top: 0;bottom: 0;left: 50%;z-index: -1;}#sk-container-id-1 div.sk-parallel-item {display: flex;flex-direction: column;z-index: 1;position: relative;background-color: white;}#sk-container-id-1 div.sk-parallel-item:first-child::after {align-self: flex-end;width: 50%;}#sk-container-id-1 div.sk-parallel-item:last-child::after {align-self: flex-start;width: 50%;}#sk-container-id-1 div.sk-parallel-item:only-child::after {width: 0;}#sk-container-id-1 div.sk-dashed-wrapped {border: 1px dashed gray;margin: 0 0.4em 0.5em 0.4em;box-sizing: border-box;padding-bottom: 0.4em;background-color: white;}#sk-container-id-1 div.sk-label label {font-family: monospace;font-weight: bold;display: inline-block;line-height: 1.2em;}#sk-container-id-1 div.sk-label-container {text-align: center;}#sk-container-id-1 div.sk-container {/* jupyter's `normalize.less` sets `[hidden] { display: none; }` but bootstrap.min.css set `[hidden] { display: none !important; }` so we also need the `!important` here to be able to override the default hidden behavior on the sphinx rendered scikit-learn.org. See: https://github.com/scikit-learn/scikit-learn/issues/21755 */display: inline-block !important;position: relative;}#sk-container-id-1 div.sk-text-repr-fallback {display: none;}</style><div id=\"sk-container-id-1\" class=\"sk-top-container\"><div class=\"sk-text-repr-fallback\"><pre>DummyClassifier(strategy=&#x27;most_frequent&#x27;)</pre><b>In a Jupyter environment, please rerun this cell to show the HTML representation or trust the notebook. <br />On GitHub, the HTML representation is unable to render, please try loading this page with nbviewer.org.</b></div><div class=\"sk-container\" hidden><div class=\"sk-item\"><div class=\"sk-estimator sk-toggleable\"><input class=\"sk-toggleable__control sk-hidden--visually\" id=\"sk-estimator-id-1\" type=\"checkbox\" checked><label for=\"sk-estimator-id-1\" class=\"sk-toggleable__label sk-toggleable__label-arrow\">DummyClassifier</label><div class=\"sk-toggleable__content\"><pre>DummyClassifier(strategy=&#x27;most_frequent&#x27;)</pre></div></div></div></div></div>"
      ],
      "text/plain": [
       "DummyClassifier(strategy='most_frequent')"
      ]
     },
     "execution_count": 18,
     "metadata": {},
     "output_type": "execute_result"
    }
   ],
   "source": [
    "dummy_classifier.fit(X_train, y_train)"
   ]
  },
  {
   "cell_type": "code",
   "execution_count": 19,
   "id": "184ec45d-209b-4604-b322-01913cfcd8e7",
   "metadata": {},
   "outputs": [],
   "source": [
    "dummy_predict = dummy_classifier.predict(X_test)"
   ]
  },
  {
   "cell_type": "code",
   "execution_count": 20,
   "id": "b07c97b0-c1d2-4477-82cb-cb802612d620",
   "metadata": {},
   "outputs": [
    {
     "data": {
      "text/plain": [
       "99.84129659279233"
      ]
     },
     "execution_count": 20,
     "metadata": {},
     "output_type": "execute_result"
    }
   ],
   "source": [
    "accuracy_score(y_test, dummy_predict)*100"
   ]
  },
  {
   "cell_type": "code",
   "execution_count": 21,
   "id": "47c62d2f-4f9e-4f38-816d-4b5fbc16c049",
   "metadata": {},
   "outputs": [
    {
     "data": {
      "text/plain": [
       "array([[71089,     0],\n",
       "       [  113,     0]], dtype=int64)"
      ]
     },
     "execution_count": 21,
     "metadata": {},
     "output_type": "execute_result"
    }
   ],
   "source": [
    "confusion_matrix(y_test, dummy_predict)"
   ]
  },
  {
   "cell_type": "markdown",
   "id": "64ddb90a-c181-4c7f-a046-dd0d8e7c02a7",
   "metadata": {},
   "source": [
    "Dummy Classifier is like a 2000's bollywood movie director.\n",
    "You really liked that film when it's released, and year's later you found out \n",
    "it's a scene by scene copy of some hollywood movie."
   ]
  },
  {
   "cell_type": "code",
   "execution_count": 22,
   "id": "e16565bb-f041-4906-a2cf-9a3bc265f75f",
   "metadata": {},
   "outputs": [
    {
     "data": {
      "text/html": [
       "<style>#sk-container-id-2 {color: black;background-color: white;}#sk-container-id-2 pre{padding: 0;}#sk-container-id-2 div.sk-toggleable {background-color: white;}#sk-container-id-2 label.sk-toggleable__label {cursor: pointer;display: block;width: 100%;margin-bottom: 0;padding: 0.3em;box-sizing: border-box;text-align: center;}#sk-container-id-2 label.sk-toggleable__label-arrow:before {content: \"▸\";float: left;margin-right: 0.25em;color: #696969;}#sk-container-id-2 label.sk-toggleable__label-arrow:hover:before {color: black;}#sk-container-id-2 div.sk-estimator:hover label.sk-toggleable__label-arrow:before {color: black;}#sk-container-id-2 div.sk-toggleable__content {max-height: 0;max-width: 0;overflow: hidden;text-align: left;background-color: #f0f8ff;}#sk-container-id-2 div.sk-toggleable__content pre {margin: 0.2em;color: black;border-radius: 0.25em;background-color: #f0f8ff;}#sk-container-id-2 input.sk-toggleable__control:checked~div.sk-toggleable__content {max-height: 200px;max-width: 100%;overflow: auto;}#sk-container-id-2 input.sk-toggleable__control:checked~label.sk-toggleable__label-arrow:before {content: \"▾\";}#sk-container-id-2 div.sk-estimator input.sk-toggleable__control:checked~label.sk-toggleable__label {background-color: #d4ebff;}#sk-container-id-2 div.sk-label input.sk-toggleable__control:checked~label.sk-toggleable__label {background-color: #d4ebff;}#sk-container-id-2 input.sk-hidden--visually {border: 0;clip: rect(1px 1px 1px 1px);clip: rect(1px, 1px, 1px, 1px);height: 1px;margin: -1px;overflow: hidden;padding: 0;position: absolute;width: 1px;}#sk-container-id-2 div.sk-estimator {font-family: monospace;background-color: #f0f8ff;border: 1px dotted black;border-radius: 0.25em;box-sizing: border-box;margin-bottom: 0.5em;}#sk-container-id-2 div.sk-estimator:hover {background-color: #d4ebff;}#sk-container-id-2 div.sk-parallel-item::after {content: \"\";width: 100%;border-bottom: 1px solid gray;flex-grow: 1;}#sk-container-id-2 div.sk-label:hover label.sk-toggleable__label {background-color: #d4ebff;}#sk-container-id-2 div.sk-serial::before {content: \"\";position: absolute;border-left: 1px solid gray;box-sizing: border-box;top: 0;bottom: 0;left: 50%;z-index: 0;}#sk-container-id-2 div.sk-serial {display: flex;flex-direction: column;align-items: center;background-color: white;padding-right: 0.2em;padding-left: 0.2em;position: relative;}#sk-container-id-2 div.sk-item {position: relative;z-index: 1;}#sk-container-id-2 div.sk-parallel {display: flex;align-items: stretch;justify-content: center;background-color: white;position: relative;}#sk-container-id-2 div.sk-item::before, #sk-container-id-2 div.sk-parallel-item::before {content: \"\";position: absolute;border-left: 1px solid gray;box-sizing: border-box;top: 0;bottom: 0;left: 50%;z-index: -1;}#sk-container-id-2 div.sk-parallel-item {display: flex;flex-direction: column;z-index: 1;position: relative;background-color: white;}#sk-container-id-2 div.sk-parallel-item:first-child::after {align-self: flex-end;width: 50%;}#sk-container-id-2 div.sk-parallel-item:last-child::after {align-self: flex-start;width: 50%;}#sk-container-id-2 div.sk-parallel-item:only-child::after {width: 0;}#sk-container-id-2 div.sk-dashed-wrapped {border: 1px dashed gray;margin: 0 0.4em 0.5em 0.4em;box-sizing: border-box;padding-bottom: 0.4em;background-color: white;}#sk-container-id-2 div.sk-label label {font-family: monospace;font-weight: bold;display: inline-block;line-height: 1.2em;}#sk-container-id-2 div.sk-label-container {text-align: center;}#sk-container-id-2 div.sk-container {/* jupyter's `normalize.less` sets `[hidden] { display: none; }` but bootstrap.min.css set `[hidden] { display: none !important; }` so we also need the `!important` here to be able to override the default hidden behavior on the sphinx rendered scikit-learn.org. See: https://github.com/scikit-learn/scikit-learn/issues/21755 */display: inline-block !important;position: relative;}#sk-container-id-2 div.sk-text-repr-fallback {display: none;}</style><div id=\"sk-container-id-2\" class=\"sk-top-container\"><div class=\"sk-text-repr-fallback\"><pre>LogisticRegression(solver=&#x27;liblinear&#x27;)</pre><b>In a Jupyter environment, please rerun this cell to show the HTML representation or trust the notebook. <br />On GitHub, the HTML representation is unable to render, please try loading this page with nbviewer.org.</b></div><div class=\"sk-container\" hidden><div class=\"sk-item\"><div class=\"sk-estimator sk-toggleable\"><input class=\"sk-toggleable__control sk-hidden--visually\" id=\"sk-estimator-id-2\" type=\"checkbox\" checked><label for=\"sk-estimator-id-2\" class=\"sk-toggleable__label sk-toggleable__label-arrow\">LogisticRegression</label><div class=\"sk-toggleable__content\"><pre>LogisticRegression(solver=&#x27;liblinear&#x27;)</pre></div></div></div></div></div>"
      ],
      "text/plain": [
       "LogisticRegression(solver='liblinear')"
      ]
     },
     "execution_count": 22,
     "metadata": {},
     "output_type": "execute_result"
    }
   ],
   "source": [
    "from sklearn.linear_model import LogisticRegression\n",
    "\n",
    "logistic = LogisticRegression(solver='liblinear')\n",
    "logistic.fit(X_train,y_train)"
   ]
  },
  {
   "cell_type": "code",
   "execution_count": 23,
   "id": "c1818993-e1ff-4dbd-a236-dc296fc7bf4c",
   "metadata": {},
   "outputs": [],
   "source": [
    "logistic_predict = logistic.predict(X_test)"
   ]
  },
  {
   "cell_type": "code",
   "execution_count": 24,
   "id": "fe7c6c78-4e32-4df3-85ca-bfb8b96e5e0e",
   "metadata": {},
   "outputs": [
    {
     "data": {
      "text/plain": [
       "array([0, 0, 0, ..., 0, 0, 0], dtype=int64)"
      ]
     },
     "execution_count": 24,
     "metadata": {},
     "output_type": "execute_result"
    }
   ],
   "source": [
    "logistic_predict"
   ]
  },
  {
   "cell_type": "code",
   "execution_count": 25,
   "id": "d96a64ed-ad8a-431b-8240-f2711a27b320",
   "metadata": {},
   "outputs": [
    {
     "data": {
      "text/plain": [
       "0.9991432824920649"
      ]
     },
     "execution_count": 25,
     "metadata": {},
     "output_type": "execute_result"
    }
   ],
   "source": [
    "accuracy_score(y_test,logistic_predict)"
   ]
  },
  {
   "cell_type": "markdown",
   "id": "82f8ba75-354e-420c-a0fe-72762ffb56e4",
   "metadata": {},
   "source": [
    "## Dealing with ***Imbalance Data***"
   ]
  },
  {
   "cell_type": "markdown",
   "id": "3b731bf3-8cb3-4410-96cd-ab19b3e879f7",
   "metadata": {},
   "source": [
    "There are several methods that we can use to deal with **Imbalance Data**"
   ]
  },
  {
   "cell_type": "markdown",
   "id": "c0075f56-d1ef-437c-9417-48fd273e61db",
   "metadata": {},
   "source": [
    "We will take a look at some of the popular ones"
   ]
  },
  {
   "cell_type": "markdown",
   "id": "a4e5b47c-404c-419d-bfc5-b5fb7022dac6",
   "metadata": {},
   "source": [
    "### Adding More Data"
   ]
  },
  {
   "cell_type": "markdown",
   "id": "a6561a76-003b-4c1c-8807-20c4441bdfb6",
   "metadata": {},
   "source": [
    "If the data is imbalanced, try to collect samples of that class which has lower percentage of overall representation."
   ]
  },
  {
   "cell_type": "markdown",
   "id": "bfdced2f-5f12-40c1-88ea-df5fa6bd915e",
   "metadata": {},
   "source": [
    "### Use wide variety of  Performance Metrics"
   ]
  },
  {
   "cell_type": "markdown",
   "id": "c1841140-ca27-4c03-91cd-bee8e7c81430",
   "metadata": {},
   "source": [
    "Accuracy is not the ultimate performance metrics and particularly in case of imbalanced data, it fails to be appropriate.\n",
    "\n",
    "Trying different performance metrics can provide more insights into the performance of the model.\n",
    "\n",
    "**1. Confusion Matrix**: A matrix showing correct predictions and the types of incorrect predictions made\n",
    "\n",
    "**2. Precision**: A measure of exactness of classifiers\n",
    "\n",
    "**3. Recall**: A measure of completeness of classifiers\n",
    "\n",
    "**4. F1 Score**: Harmonic mean of precision and recall"
   ]
  },
  {
   "cell_type": "code",
   "execution_count": 26,
   "id": "65b73a19-846f-48e8-ae56-24254b1453f5",
   "metadata": {},
   "outputs": [
    {
     "data": {
      "text/html": [
       "<div>\n",
       "<style scoped>\n",
       "    .dataframe tbody tr th:only-of-type {\n",
       "        vertical-align: middle;\n",
       "    }\n",
       "\n",
       "    .dataframe tbody tr th {\n",
       "        vertical-align: top;\n",
       "    }\n",
       "\n",
       "    .dataframe thead th {\n",
       "        text-align: right;\n",
       "    }\n",
       "</style>\n",
       "<table border=\"1\" class=\"dataframe\">\n",
       "  <thead>\n",
       "    <tr style=\"text-align: right;\">\n",
       "      <th></th>\n",
       "      <th>0</th>\n",
       "      <th>1</th>\n",
       "    </tr>\n",
       "  </thead>\n",
       "  <tbody>\n",
       "    <tr>\n",
       "      <th>0</th>\n",
       "      <td>71064</td>\n",
       "      <td>25</td>\n",
       "    </tr>\n",
       "    <tr>\n",
       "      <th>1</th>\n",
       "      <td>36</td>\n",
       "      <td>77</td>\n",
       "    </tr>\n",
       "  </tbody>\n",
       "</table>\n",
       "</div>"
      ],
      "text/plain": [
       "       0   1\n",
       "0  71064  25\n",
       "1     36  77"
      ]
     },
     "execution_count": 26,
     "metadata": {},
     "output_type": "execute_result"
    }
   ],
   "source": [
    "pd.DataFrame(confusion_matrix(y_test, logistic_predict))"
   ]
  },
  {
   "cell_type": "code",
   "execution_count": 27,
   "id": "a8e86419-7c56-456f-8be9-babab2f402aa",
   "metadata": {},
   "outputs": [
    {
     "data": {
      "text/plain": [
       "array([[71064,    25],\n",
       "       [   36,    77]], dtype=int64)"
      ]
     },
     "execution_count": 27,
     "metadata": {},
     "output_type": "execute_result"
    }
   ],
   "source": [
    "cm = confusion_matrix(y_test, logistic_predict)\n",
    "cm"
   ]
  },
  {
   "cell_type": "code",
   "execution_count": 28,
   "id": "5a0ff5d6-247b-47b0-9f5c-1e1f86138cec",
   "metadata": {},
   "outputs": [
    {
     "data": {
      "text/plain": [
       "<sklearn.metrics._plot.confusion_matrix.ConfusionMatrixDisplay at 0x2499fedffd0>"
      ]
     },
     "execution_count": 28,
     "metadata": {},
     "output_type": "execute_result"
    },
    {
     "data": {
      "image/png": "[encoded data removed]",
      "text/plain": [
       "<Figure size 640x480 with 2 Axes>"
      ]
     },
     "metadata": {},
     "output_type": "display_data"
    }
   ],
   "source": [
    "display = ConfusionMatrixDisplay(confusion_matrix=cm)\n",
    "display.plot(cmap='Reds')"
   ]
  },
  {
   "cell_type": "code",
   "execution_count": 29,
   "id": "253f23d5-8309-4eaa-ae16-0b8a82b3e217",
   "metadata": {},
   "outputs": [
    {
     "data": {
      "text/plain": [
       "0.7162790697674417"
      ]
     },
     "execution_count": 29,
     "metadata": {},
     "output_type": "execute_result"
    }
   ],
   "source": [
    "f1_score(y_test, logistic_predict)"
   ]
  },
  {
   "cell_type": "code",
   "execution_count": 30,
   "id": "df570208-2f6a-44fb-a452-08e05955275a",
   "metadata": {},
   "outputs": [
    {
     "data": {
      "text/plain": [
       "0.6814159292035398"
      ]
     },
     "execution_count": 30,
     "metadata": {},
     "output_type": "execute_result"
    }
   ],
   "source": [
    "recall_score(y_test, logistic_predict)"
   ]
  },
  {
   "cell_type": "markdown",
   "id": "a5e6d5c4-b056-4ab4-8d86-84be7359420a",
   "metadata": {},
   "source": [
    "### Change the algorithm"
   ]
  },
  {
   "cell_type": "code",
   "execution_count": 31,
   "id": "15a53033-7189-4e2e-b1d1-5d615060edca",
   "metadata": {},
   "outputs": [],
   "source": [
    "from sklearn.ensemble import RandomForestClassifier"
   ]
  },
  {
   "cell_type": "code",
   "execution_count": 32,
   "id": "1d846bc0-239d-4f06-b413-3049bccbb75d",
   "metadata": {},
   "outputs": [
    {
     "data": {
      "text/html": [
       "<style>#sk-container-id-3 {color: black;background-color: white;}#sk-container-id-3 pre{padding: 0;}#sk-container-id-3 div.sk-toggleable {background-color: white;}#sk-container-id-3 label.sk-toggleable__label {cursor: pointer;display: block;width: 100%;margin-bottom: 0;padding: 0.3em;box-sizing: border-box;text-align: center;}#sk-container-id-3 label.sk-toggleable__label-arrow:before {content: \"▸\";float: left;margin-right: 0.25em;color: #696969;}#sk-container-id-3 label.sk-toggleable__label-arrow:hover:before {color: black;}#sk-container-id-3 div.sk-estimator:hover label.sk-toggleable__label-arrow:before {color: black;}#sk-container-id-3 div.sk-toggleable__content {max-height: 0;max-width: 0;overflow: hidden;text-align: left;background-color: #f0f8ff;}#sk-container-id-3 div.sk-toggleable__content pre {margin: 0.2em;color: black;border-radius: 0.25em;background-color: #f0f8ff;}#sk-container-id-3 input.sk-toggleable__control:checked~div.sk-toggleable__content {max-height: 200px;max-width: 100%;overflow: auto;}#sk-container-id-3 input.sk-toggleable__control:checked~label.sk-toggleable__label-arrow:before {content: \"▾\";}#sk-container-id-3 div.sk-estimator input.sk-toggleable__control:checked~label.sk-toggleable__label {background-color: #d4ebff;}#sk-container-id-3 div.sk-label input.sk-toggleable__control:checked~label.sk-toggleable__label {background-color: #d4ebff;}#sk-container-id-3 input.sk-hidden--visually {border: 0;clip: rect(1px 1px 1px 1px);clip: rect(1px, 1px, 1px, 1px);height: 1px;margin: -1px;overflow: hidden;padding: 0;position: absolute;width: 1px;}#sk-container-id-3 div.sk-estimator {font-family: monospace;background-color: #f0f8ff;border: 1px dotted black;border-radius: 0.25em;box-sizing: border-box;margin-bottom: 0.5em;}#sk-container-id-3 div.sk-estimator:hover {background-color: #d4ebff;}#sk-container-id-3 div.sk-parallel-item::after {content: \"\";width: 100%;border-bottom: 1px solid gray;flex-grow: 1;}#sk-container-id-3 div.sk-label:hover label.sk-toggleable__label {background-color: #d4ebff;}#sk-container-id-3 div.sk-serial::before {content: \"\";position: absolute;border-left: 1px solid gray;box-sizing: border-box;top: 0;bottom: 0;left: 50%;z-index: 0;}#sk-container-id-3 div.sk-serial {display: flex;flex-direction: column;align-items: center;background-color: white;padding-right: 0.2em;padding-left: 0.2em;position: relative;}#sk-container-id-3 div.sk-item {position: relative;z-index: 1;}#sk-container-id-3 div.sk-parallel {display: flex;align-items: stretch;justify-content: center;background-color: white;position: relative;}#sk-container-id-3 div.sk-item::before, #sk-container-id-3 div.sk-parallel-item::before {content: \"\";position: absolute;border-left: 1px solid gray;box-sizing: border-box;top: 0;bottom: 0;left: 50%;z-index: -1;}#sk-container-id-3 div.sk-parallel-item {display: flex;flex-direction: column;z-index: 1;position: relative;background-color: white;}#sk-container-id-3 div.sk-parallel-item:first-child::after {align-self: flex-end;width: 50%;}#sk-container-id-3 div.sk-parallel-item:last-child::after {align-self: flex-start;width: 50%;}#sk-container-id-3 div.sk-parallel-item:only-child::after {width: 0;}#sk-container-id-3 div.sk-dashed-wrapped {border: 1px dashed gray;margin: 0 0.4em 0.5em 0.4em;box-sizing: border-box;padding-bottom: 0.4em;background-color: white;}#sk-container-id-3 div.sk-label label {font-family: monospace;font-weight: bold;display: inline-block;line-height: 1.2em;}#sk-container-id-3 div.sk-label-container {text-align: center;}#sk-container-id-3 div.sk-container {/* jupyter's `normalize.less` sets `[hidden] { display: none; }` but bootstrap.min.css set `[hidden] { display: none !important; }` so we also need the `!important` here to be able to override the default hidden behavior on the sphinx rendered scikit-learn.org. See: https://github.com/scikit-learn/scikit-learn/issues/21755 */display: inline-block !important;position: relative;}#sk-container-id-3 div.sk-text-repr-fallback {display: none;}</style><div id=\"sk-container-id-3\" class=\"sk-top-container\"><div class=\"sk-text-repr-fallback\"><pre>RandomForestClassifier()</pre><b>In a Jupyter environment, please rerun this cell to show the HTML representation or trust the notebook. <br />On GitHub, the HTML representation is unable to render, please try loading this page with nbviewer.org.</b></div><div class=\"sk-container\" hidden><div class=\"sk-item\"><div class=\"sk-estimator sk-toggleable\"><input class=\"sk-toggleable__control sk-hidden--visually\" id=\"sk-estimator-id-3\" type=\"checkbox\" checked><label for=\"sk-estimator-id-3\" class=\"sk-toggleable__label sk-toggleable__label-arrow\">RandomForestClassifier</label><div class=\"sk-toggleable__content\"><pre>RandomForestClassifier()</pre></div></div></div></div></div>"
      ],
      "text/plain": [
       "RandomForestClassifier()"
      ]
     },
     "execution_count": 32,
     "metadata": {},
     "output_type": "execute_result"
    }
   ],
   "source": [
    "rfc = RandomForestClassifier()\n",
    "rfc.fit(X_train,y_train)"
   ]
  },
  {
   "cell_type": "code",
   "execution_count": 35,
   "id": "4d97e7ef-3a83-48f8-94b2-88f467a7e236",
   "metadata": {},
   "outputs": [],
   "source": [
    "random_forest_predict = rfc.predict(X_test)"
   ]
  },
  {
   "cell_type": "code",
   "execution_count": 36,
   "id": "044afd36-0b9d-40c9-a13c-8af2cf6d3337",
   "metadata": {},
   "outputs": [
    {
     "data": {
      "text/plain": [
       "0.999522485323446"
      ]
     },
     "execution_count": 36,
     "metadata": {},
     "output_type": "execute_result"
    }
   ],
   "source": [
    "accuracy_score(y_test, random_forest_predict)"
   ]
  },
  {
   "cell_type": "code",
   "execution_count": 37,
   "id": "eaf0c449-0ead-44fe-a3af-779de678c5e3",
   "metadata": {},
   "outputs": [
    {
     "data": {
      "text/plain": [
       "array([[71081,     8],\n",
       "       [   26,    87]], dtype=int64)"
      ]
     },
     "execution_count": 37,
     "metadata": {},
     "output_type": "execute_result"
    }
   ],
   "source": [
    "confusion_matrix(y_test,random_forest_predict)"
   ]
  },
  {
   "cell_type": "code",
   "execution_count": 38,
   "id": "82973b7f-9857-4d5a-a838-7a62ad0aca09",
   "metadata": {},
   "outputs": [
    {
     "data": {
      "text/html": [
       "<div>\n",
       "<style scoped>\n",
       "    .dataframe tbody tr th:only-of-type {\n",
       "        vertical-align: middle;\n",
       "    }\n",
       "\n",
       "    .dataframe tbody tr th {\n",
       "        vertical-align: top;\n",
       "    }\n",
       "\n",
       "    .dataframe thead th {\n",
       "        text-align: right;\n",
       "    }\n",
       "</style>\n",
       "<table border=\"1\" class=\"dataframe\">\n",
       "  <thead>\n",
       "    <tr style=\"text-align: right;\">\n",
       "      <th></th>\n",
       "      <th>0</th>\n",
       "      <th>1</th>\n",
       "    </tr>\n",
       "  </thead>\n",
       "  <tbody>\n",
       "    <tr>\n",
       "      <th>0</th>\n",
       "      <td>71081</td>\n",
       "      <td>8</td>\n",
       "    </tr>\n",
       "    <tr>\n",
       "      <th>1</th>\n",
       "      <td>26</td>\n",
       "      <td>87</td>\n",
       "    </tr>\n",
       "  </tbody>\n",
       "</table>\n",
       "</div>"
      ],
      "text/plain": [
       "       0   1\n",
       "0  71081   8\n",
       "1     26  87"
      ]
     },
     "execution_count": 38,
     "metadata": {},
     "output_type": "execute_result"
    }
   ],
   "source": [
    "pd.DataFrame(confusion_matrix(y_test,random_forest_predict))"
   ]
  },
  {
   "cell_type": "markdown",
   "id": "528656ad-fb2b-4f08-baab-cab3d291dca7",
   "metadata": {},
   "source": [
    "### Resampling Techniques"
   ]
  },
  {
   "cell_type": "markdown",
   "id": "4d86b459-674a-4362-9746-23f4ec24229a",
   "metadata": {},
   "source": [
    "- Upsampling/Oversampling\n",
    "- Downsampling/ Undersampling"
   ]
  },
  {
   "cell_type": "code",
   "execution_count": 39,
   "id": "2f6d6f60-3905-4dd2-8cd8-2aae06b269fd",
   "metadata": {},
   "outputs": [],
   "source": [
    "from sklearn.utils import resample"
   ]
  },
  {
   "cell_type": "code",
   "execution_count": 128,
   "id": "a5a555c5-43a3-4bbb-a055-b45419004e2b",
   "metadata": {},
   "outputs": [],
   "source": [
    "not_fraud = df[df.Class==0]"
   ]
  },
  {
   "cell_type": "code",
   "execution_count": 129,
   "id": "e58feda3-b683-4f65-8283-37250dbf123a",
   "metadata": {},
   "outputs": [],
   "source": [
    "fraud = df[df.Class==1]"
   ]
  },
  {
   "cell_type": "code",
   "execution_count": 130,
   "id": "0f688fbb-3530-4c1d-8aee-11aa6fe8759e",
   "metadata": {},
   "outputs": [],
   "source": [
    "fraud_data_upsampled = resample(fraud, \n",
    "                                replace=True, \n",
    "                                n_samples = len(not_fraud), \n",
    "                                random_state=27)"
   ]
  },
  {
   "cell_type": "code",
   "execution_count": 131,
   "id": "3240b569-36e6-48dd-bbd3-dae65367f53c",
   "metadata": {},
   "outputs": [],
   "source": [
    "upsampled = pd.concat([not_fraud, fraud_data_upsampled])"
   ]
  },
  {
   "cell_type": "code",
   "execution_count": 132,
   "id": "01376559-1d26-4d32-bbf6-39e79709fb07",
   "metadata": {},
   "outputs": [
    {
     "name": "stdout",
     "output_type": "stream",
     "text": [
      "Column Name: Class\n"
     ]
    },
    {
     "data": {
      "text/html": [
       "<div>\n",
       "<style scoped>\n",
       "    .dataframe tbody tr th:only-of-type {\n",
       "        vertical-align: middle;\n",
       "    }\n",
       "\n",
       "    .dataframe tbody tr th {\n",
       "        vertical-align: top;\n",
       "    }\n",
       "\n",
       "    .dataframe thead th {\n",
       "        text-align: right;\n",
       "    }\n",
       "</style>\n",
       "<table border=\"1\" class=\"dataframe\">\n",
       "  <thead>\n",
       "    <tr style=\"text-align: right;\">\n",
       "      <th></th>\n",
       "      <th>value_counts</th>\n",
       "      <th>Percentage</th>\n",
       "    </tr>\n",
       "  </thead>\n",
       "  <tbody>\n",
       "    <tr>\n",
       "      <th>0</th>\n",
       "      <td>284315</td>\n",
       "      <td>50.0</td>\n",
       "    </tr>\n",
       "    <tr>\n",
       "      <th>1</th>\n",
       "      <td>284315</td>\n",
       "      <td>50.0</td>\n",
       "    </tr>\n",
       "  </tbody>\n",
       "</table>\n",
       "</div>"
      ],
      "text/plain": [
       "   value_counts  Percentage\n",
       "0        284315        50.0\n",
       "1        284315        50.0"
      ]
     },
     "execution_count": 132,
     "metadata": {},
     "output_type": "execute_result"
    }
   ],
   "source": [
    "unique_values(upsampled, 'Class')"
   ]
  },
  {
   "cell_type": "code",
   "execution_count": 133,
   "id": "b573cd4f-ae3b-4b17-a6d9-9696fb4d045e",
   "metadata": {},
   "outputs": [],
   "source": [
    "# !pip install imbalanced-learn"
   ]
  },
  {
   "cell_type": "code",
   "execution_count": 55,
   "id": "ecdb0b58-0eab-4fed-b7e3-94224657dcf1",
   "metadata": {},
   "outputs": [],
   "source": [
    "from collections import Counter\n",
    "from imblearn.over_sampling import RandomOverSampler\n",
    "rand_over = RandomOverSampler(random_state=50)\n",
    "X_res, y_res = rand_over.fit_resample(X,y)"
   ]
  },
  {
   "cell_type": "code",
   "execution_count": 57,
   "id": "8bd50b94-4796-4422-97a5-1529e20b9670",
   "metadata": {},
   "outputs": [
    {
     "name": "stdout",
     "output_type": "stream",
     "text": [
      "Counter({0: 284315, 1: 492})\n",
      "Counter({0: 284315, 1: 284315})\n"
     ]
    }
   ],
   "source": [
    "print(Counter(y))\n",
    "print(Counter(y_res))"
   ]
  },
  {
   "cell_type": "markdown",
   "id": "92e62fe6-0b90-479c-822d-ba4e4c07ec71",
   "metadata": {},
   "source": [
    "### ML on Balanced Dataset"
   ]
  },
  {
   "cell_type": "markdown",
   "id": "35993578-d3d5-4070-b11e-109bb3e824a7",
   "metadata": {},
   "source": [
    "#### Logistic Regression"
   ]
  },
  {
   "cell_type": "code",
   "execution_count": 137,
   "id": "4059ee38-dbeb-43b8-bf31-8b423cd1fa2c",
   "metadata": {},
   "outputs": [],
   "source": [
    "X = upsampled.iloc[:,:-1]\n",
    "y = upsampled.iloc[:,-1]"
   ]
  },
  {
   "cell_type": "code",
   "execution_count": 138,
   "id": "1058595e-ce4a-4f11-9579-843bf8be1af2",
   "metadata": {},
   "outputs": [],
   "source": [
    "X_train, X_test, y_train, y_test = train_test_split(X,y, test_size=0.25, random_state=50)"
   ]
  },
  {
   "cell_type": "code",
   "execution_count": 85,
   "id": "446ff589-f1dd-4db2-b00c-b74d5be51d2f",
   "metadata": {},
   "outputs": [],
   "source": [
    "Log_reg = LogisticRegression(solver='liblinear').fit(X_train, y_train)"
   ]
  },
  {
   "cell_type": "code",
   "execution_count": 86,
   "id": "cd164cc3-660d-4502-b452-d79c7995ab31",
   "metadata": {},
   "outputs": [
    {
     "data": {
      "text/html": [
       "<style>#sk-container-id-6 {color: black;background-color: white;}#sk-container-id-6 pre{padding: 0;}#sk-container-id-6 div.sk-toggleable {background-color: white;}#sk-container-id-6 label.sk-toggleable__label {cursor: pointer;display: block;width: 100%;margin-bottom: 0;padding: 0.3em;box-sizing: border-box;text-align: center;}#sk-container-id-6 label.sk-toggleable__label-arrow:before {content: \"▸\";float: left;margin-right: 0.25em;color: #696969;}#sk-container-id-6 label.sk-toggleable__label-arrow:hover:before {color: black;}#sk-container-id-6 div.sk-estimator:hover label.sk-toggleable__label-arrow:before {color: black;}#sk-container-id-6 div.sk-toggleable__content {max-height: 0;max-width: 0;overflow: hidden;text-align: left;background-color: #f0f8ff;}#sk-container-id-6 div.sk-toggleable__content pre {margin: 0.2em;color: black;border-radius: 0.25em;background-color: #f0f8ff;}#sk-container-id-6 input.sk-toggleable__control:checked~div.sk-toggleable__content {max-height: 200px;max-width: 100%;overflow: auto;}#sk-container-id-6 input.sk-toggleable__control:checked~label.sk-toggleable__label-arrow:before {content: \"▾\";}#sk-container-id-6 div.sk-estimator input.sk-toggleable__control:checked~label.sk-toggleable__label {background-color: #d4ebff;}#sk-container-id-6 div.sk-label input.sk-toggleable__control:checked~label.sk-toggleable__label {background-color: #d4ebff;}#sk-container-id-6 input.sk-hidden--visually {border: 0;clip: rect(1px 1px 1px 1px);clip: rect(1px, 1px, 1px, 1px);height: 1px;margin: -1px;overflow: hidden;padding: 0;position: absolute;width: 1px;}#sk-container-id-6 div.sk-estimator {font-family: monospace;background-color: #f0f8ff;border: 1px dotted black;border-radius: 0.25em;box-sizing: border-box;margin-bottom: 0.5em;}#sk-container-id-6 div.sk-estimator:hover {background-color: #d4ebff;}#sk-container-id-6 div.sk-parallel-item::after {content: \"\";width: 100%;border-bottom: 1px solid gray;flex-grow: 1;}#sk-container-id-6 div.sk-label:hover label.sk-toggleable__label {background-color: #d4ebff;}#sk-container-id-6 div.sk-serial::before {content: \"\";position: absolute;border-left: 1px solid gray;box-sizing: border-box;top: 0;bottom: 0;left: 50%;z-index: 0;}#sk-container-id-6 div.sk-serial {display: flex;flex-direction: column;align-items: center;background-color: white;padding-right: 0.2em;padding-left: 0.2em;position: relative;}#sk-container-id-6 div.sk-item {position: relative;z-index: 1;}#sk-container-id-6 div.sk-parallel {display: flex;align-items: stretch;justify-content: center;background-color: white;position: relative;}#sk-container-id-6 div.sk-item::before, #sk-container-id-6 div.sk-parallel-item::before {content: \"\";position: absolute;border-left: 1px solid gray;box-sizing: border-box;top: 0;bottom: 0;left: 50%;z-index: -1;}#sk-container-id-6 div.sk-parallel-item {display: flex;flex-direction: column;z-index: 1;position: relative;background-color: white;}#sk-container-id-6 div.sk-parallel-item:first-child::after {align-self: flex-end;width: 50%;}#sk-container-id-6 div.sk-parallel-item:last-child::after {align-self: flex-start;width: 50%;}#sk-container-id-6 div.sk-parallel-item:only-child::after {width: 0;}#sk-container-id-6 div.sk-dashed-wrapped {border: 1px dashed gray;margin: 0 0.4em 0.5em 0.4em;box-sizing: border-box;padding-bottom: 0.4em;background-color: white;}#sk-container-id-6 div.sk-label label {font-family: monospace;font-weight: bold;display: inline-block;line-height: 1.2em;}#sk-container-id-6 div.sk-label-container {text-align: center;}#sk-container-id-6 div.sk-container {/* jupyter's `normalize.less` sets `[hidden] { display: none; }` but bootstrap.min.css set `[hidden] { display: none !important; }` so we also need the `!important` here to be able to override the default hidden behavior on the sphinx rendered scikit-learn.org. See: https://github.com/scikit-learn/scikit-learn/issues/21755 */display: inline-block !important;position: relative;}#sk-container-id-6 div.sk-text-repr-fallback {display: none;}</style><div id=\"sk-container-id-6\" class=\"sk-top-container\"><div class=\"sk-text-repr-fallback\"><pre>LogisticRegression(solver=&#x27;liblinear&#x27;)</pre><b>In a Jupyter environment, please rerun this cell to show the HTML representation or trust the notebook. <br />On GitHub, the HTML representation is unable to render, please try loading this page with nbviewer.org.</b></div><div class=\"sk-container\" hidden><div class=\"sk-item\"><div class=\"sk-estimator sk-toggleable\"><input class=\"sk-toggleable__control sk-hidden--visually\" id=\"sk-estimator-id-6\" type=\"checkbox\" checked><label for=\"sk-estimator-id-6\" class=\"sk-toggleable__label sk-toggleable__label-arrow\">LogisticRegression</label><div class=\"sk-toggleable__content\"><pre>LogisticRegression(solver=&#x27;liblinear&#x27;)</pre></div></div></div></div></div>"
      ],
      "text/plain": [
       "LogisticRegression(solver='liblinear')"
      ]
     },
     "execution_count": 86,
     "metadata": {},
     "output_type": "execute_result"
    }
   ],
   "source": [
    "Log_reg"
   ]
  },
  {
   "cell_type": "code",
   "execution_count": 87,
   "id": "972bffeb-489c-4f47-a7dc-90c37bbfe142",
   "metadata": {},
   "outputs": [],
   "source": [
    "log_predict = Log_reg.predict(X_test)"
   ]
  },
  {
   "cell_type": "code",
   "execution_count": 88,
   "id": "3142fc44-c972-40ef-8237-e7301d853b14",
   "metadata": {},
   "outputs": [
    {
     "data": {
      "text/plain": [
       "0.9378578764473332"
      ]
     },
     "execution_count": 88,
     "metadata": {},
     "output_type": "execute_result"
    }
   ],
   "source": [
    "accuracy_score(y_test, log_predict)"
   ]
  },
  {
   "cell_type": "code",
   "execution_count": 89,
   "id": "7e64b8a7-837b-4ea2-beca-03022485ad69",
   "metadata": {},
   "outputs": [
    {
     "data": {
      "text/plain": [
       "array([[69399,  1865],\n",
       "       [ 6969, 63925]], dtype=int64)"
      ]
     },
     "execution_count": 89,
     "metadata": {},
     "output_type": "execute_result"
    }
   ],
   "source": [
    "confusion_matrix(y_test, log_predict)"
   ]
  },
  {
   "cell_type": "code",
   "execution_count": 90,
   "id": "30d9dd69-138a-47c0-ba94-8a849023eeec",
   "metadata": {},
   "outputs": [
    {
     "data": {
      "text/plain": [
       "0.935369172690293"
      ]
     },
     "execution_count": 90,
     "metadata": {},
     "output_type": "execute_result"
    }
   ],
   "source": [
    "f1_score(y_test, log_predict)"
   ]
  },
  {
   "cell_type": "code",
   "execution_count": 91,
   "id": "459660a0-3fff-435a-9e45-a76ac8ec9a07",
   "metadata": {},
   "outputs": [
    {
     "data": {
      "text/plain": [
       "0.9016983101531865"
      ]
     },
     "execution_count": 91,
     "metadata": {},
     "output_type": "execute_result"
    }
   ],
   "source": [
    "recall_score(y_test, log_predict)"
   ]
  },
  {
   "cell_type": "markdown",
   "id": "d479fc3c-fc87-43aa-b183-ddef84d7c988",
   "metadata": {},
   "source": [
    "#### Random Forest"
   ]
  },
  {
   "cell_type": "code",
   "execution_count": 92,
   "id": "2345a22a-d215-4e9b-89b1-128cdbb5e020",
   "metadata": {},
   "outputs": [],
   "source": [
    "rfc = RandomForestClassifier()\n",
    "rfc_fit = rfc.fit(X_train,y_train)\n",
    "random_forest_predict = rfc.predict(X_test)"
   ]
  },
  {
   "cell_type": "code",
   "execution_count": 93,
   "id": "9dcbf9e9-9df5-422d-97fa-df14e941d7c2",
   "metadata": {},
   "outputs": [
    {
     "data": {
      "text/plain": [
       "0.9999788967205504"
      ]
     },
     "execution_count": 93,
     "metadata": {},
     "output_type": "execute_result"
    }
   ],
   "source": [
    "accuracy_score(y_test, random_forest_predict)"
   ]
  },
  {
   "cell_type": "code",
   "execution_count": 94,
   "id": "8a27fd4e-0dd4-4a90-976a-e4e515f40375",
   "metadata": {},
   "outputs": [
    {
     "data": {
      "text/plain": [
       "array([[71261,     3],\n",
       "       [    0, 70894]], dtype=int64)"
      ]
     },
     "execution_count": 94,
     "metadata": {},
     "output_type": "execute_result"
    }
   ],
   "source": [
    "confusion_matrix(y_test,random_forest_predict)"
   ]
  },
  {
   "cell_type": "code",
   "execution_count": 95,
   "id": "255e6f5a-3afb-4964-a031-f800367c0e3a",
   "metadata": {},
   "outputs": [
    {
     "data": {
      "text/plain": [
       "0.9999788420985817"
      ]
     },
     "execution_count": 95,
     "metadata": {},
     "output_type": "execute_result"
    }
   ],
   "source": [
    "f1_score(y_test, random_forest_predict)"
   ]
  },
  {
   "cell_type": "code",
   "execution_count": 96,
   "id": "83311fa2-0a9c-40a1-a721-6cce824d54fb",
   "metadata": {},
   "outputs": [
    {
     "data": {
      "text/plain": [
       "1.0"
      ]
     },
     "execution_count": 96,
     "metadata": {},
     "output_type": "execute_result"
    }
   ],
   "source": [
    "recall_score(y_test, random_forest_predict)"
   ]
  },
  {
   "cell_type": "markdown",
   "id": "1a8dfd1d-e273-47cd-8b0a-feb412bad8c2",
   "metadata": {},
   "source": [
    "### Downsampling"
   ]
  },
  {
   "cell_type": "code",
   "execution_count": 105,
   "id": "30331475-d3de-48cb-8236-d1f9421c508d",
   "metadata": {},
   "outputs": [],
   "source": [
    "not_fraud_data_downsampled = resample(not_fraud, \n",
    "                                replace=False, \n",
    "                                n_samples = len(fraud), \n",
    "                                random_state=27)"
   ]
  },
  {
   "cell_type": "code",
   "execution_count": 106,
   "id": "37d22ea2-2696-41ae-9209-56a558a07d78",
   "metadata": {},
   "outputs": [
    {
     "data": {
      "text/html": [
       "<div>\n",
       "<style scoped>\n",
       "    .dataframe tbody tr th:only-of-type {\n",
       "        vertical-align: middle;\n",
       "    }\n",
       "\n",
       "    .dataframe tbody tr th {\n",
       "        vertical-align: top;\n",
       "    }\n",
       "\n",
       "    .dataframe thead th {\n",
       "        text-align: right;\n",
       "    }\n",
       "</style>\n",
       "<table border=\"1\" class=\"dataframe\">\n",
       "  <thead>\n",
       "    <tr style=\"text-align: right;\">\n",
       "      <th></th>\n",
       "      <th>Time</th>\n",
       "      <th>V1</th>\n",
       "      <th>V2</th>\n",
       "      <th>V3</th>\n",
       "      <th>V4</th>\n",
       "      <th>V5</th>\n",
       "      <th>V6</th>\n",
       "      <th>V7</th>\n",
       "      <th>V8</th>\n",
       "      <th>V9</th>\n",
       "      <th>...</th>\n",
       "      <th>V21</th>\n",
       "      <th>V22</th>\n",
       "      <th>V23</th>\n",
       "      <th>V24</th>\n",
       "      <th>V25</th>\n",
       "      <th>V26</th>\n",
       "      <th>V27</th>\n",
       "      <th>V28</th>\n",
       "      <th>Amount</th>\n",
       "      <th>Class</th>\n",
       "    </tr>\n",
       "  </thead>\n",
       "  <tbody>\n",
       "    <tr>\n",
       "      <th>162213</th>\n",
       "      <td>114934.0</td>\n",
       "      <td>1.995938</td>\n",
       "      <td>0.041506</td>\n",
       "      <td>-1.626617</td>\n",
       "      <td>0.359730</td>\n",
       "      <td>0.328712</td>\n",
       "      <td>-0.670507</td>\n",
       "      <td>0.070409</td>\n",
       "      <td>-0.077927</td>\n",
       "      <td>0.290942</td>\n",
       "      <td>...</td>\n",
       "      <td>-0.298886</td>\n",
       "      <td>-0.842195</td>\n",
       "      <td>0.345810</td>\n",
       "      <td>0.657588</td>\n",
       "      <td>-0.333355</td>\n",
       "      <td>0.142894</td>\n",
       "      <td>-0.071543</td>\n",
       "      <td>-0.037694</td>\n",
       "      <td>13.48</td>\n",
       "      <td>0</td>\n",
       "    </tr>\n",
       "    <tr>\n",
       "      <th>75678</th>\n",
       "      <td>56197.0</td>\n",
       "      <td>0.945842</td>\n",
       "      <td>-0.400033</td>\n",
       "      <td>-0.554717</td>\n",
       "      <td>1.778090</td>\n",
       "      <td>1.832547</td>\n",
       "      <td>4.439277</td>\n",
       "      <td>-0.716450</td>\n",
       "      <td>1.068586</td>\n",
       "      <td>0.011658</td>\n",
       "      <td>...</td>\n",
       "      <td>-0.111339</td>\n",
       "      <td>-0.472340</td>\n",
       "      <td>-0.201955</td>\n",
       "      <td>1.025456</td>\n",
       "      <td>0.688154</td>\n",
       "      <td>0.063892</td>\n",
       "      <td>0.006502</td>\n",
       "      <td>0.038923</td>\n",
       "      <td>127.78</td>\n",
       "      <td>0</td>\n",
       "    </tr>\n",
       "    <tr>\n",
       "      <th>279712</th>\n",
       "      <td>169046.0</td>\n",
       "      <td>1.735539</td>\n",
       "      <td>-0.483406</td>\n",
       "      <td>-0.845973</td>\n",
       "      <td>1.402665</td>\n",
       "      <td>0.185065</td>\n",
       "      <td>0.613135</td>\n",
       "      <td>-0.052874</td>\n",
       "      <td>0.017813</td>\n",
       "      <td>0.987641</td>\n",
       "      <td>...</td>\n",
       "      <td>-0.476199</td>\n",
       "      <td>-1.326599</td>\n",
       "      <td>0.262618</td>\n",
       "      <td>-0.016740</td>\n",
       "      <td>-0.221760</td>\n",
       "      <td>-1.111037</td>\n",
       "      <td>0.036587</td>\n",
       "      <td>-0.005262</td>\n",
       "      <td>137.48</td>\n",
       "      <td>0</td>\n",
       "    </tr>\n",
       "    <tr>\n",
       "      <th>88272</th>\n",
       "      <td>62068.0</td>\n",
       "      <td>1.253755</td>\n",
       "      <td>-0.657127</td>\n",
       "      <td>0.411747</td>\n",
       "      <td>-1.468090</td>\n",
       "      <td>-0.877031</td>\n",
       "      <td>-0.330262</td>\n",
       "      <td>-0.597605</td>\n",
       "      <td>-0.011242</td>\n",
       "      <td>1.955442</td>\n",
       "      <td>...</td>\n",
       "      <td>-0.055549</td>\n",
       "      <td>-0.003120</td>\n",
       "      <td>-0.182191</td>\n",
       "      <td>-0.550678</td>\n",
       "      <td>0.489173</td>\n",
       "      <td>0.029340</td>\n",
       "      <td>0.037419</td>\n",
       "      <td>0.024202</td>\n",
       "      <td>48.40</td>\n",
       "      <td>0</td>\n",
       "    </tr>\n",
       "    <tr>\n",
       "      <th>231933</th>\n",
       "      <td>146985.0</td>\n",
       "      <td>0.242337</td>\n",
       "      <td>0.805488</td>\n",
       "      <td>-0.118981</td>\n",
       "      <td>0.734465</td>\n",
       "      <td>1.330932</td>\n",
       "      <td>-1.084600</td>\n",
       "      <td>1.476898</td>\n",
       "      <td>-0.574761</td>\n",
       "      <td>-0.408175</td>\n",
       "      <td>...</td>\n",
       "      <td>0.126925</td>\n",
       "      <td>0.720698</td>\n",
       "      <td>-0.202297</td>\n",
       "      <td>0.005675</td>\n",
       "      <td>-0.187671</td>\n",
       "      <td>-0.574096</td>\n",
       "      <td>-0.031813</td>\n",
       "      <td>-0.121123</td>\n",
       "      <td>1.00</td>\n",
       "      <td>0</td>\n",
       "    </tr>\n",
       "    <tr>\n",
       "      <th>...</th>\n",
       "      <td>...</td>\n",
       "      <td>...</td>\n",
       "      <td>...</td>\n",
       "      <td>...</td>\n",
       "      <td>...</td>\n",
       "      <td>...</td>\n",
       "      <td>...</td>\n",
       "      <td>...</td>\n",
       "      <td>...</td>\n",
       "      <td>...</td>\n",
       "      <td>...</td>\n",
       "      <td>...</td>\n",
       "      <td>...</td>\n",
       "      <td>...</td>\n",
       "      <td>...</td>\n",
       "      <td>...</td>\n",
       "      <td>...</td>\n",
       "      <td>...</td>\n",
       "      <td>...</td>\n",
       "      <td>...</td>\n",
       "      <td>...</td>\n",
       "    </tr>\n",
       "    <tr>\n",
       "      <th>102043</th>\n",
       "      <td>68032.0</td>\n",
       "      <td>-1.267253</td>\n",
       "      <td>1.815509</td>\n",
       "      <td>0.462275</td>\n",
       "      <td>0.091032</td>\n",
       "      <td>-0.596431</td>\n",
       "      <td>-1.094155</td>\n",
       "      <td>0.028623</td>\n",
       "      <td>0.757142</td>\n",
       "      <td>-0.622535</td>\n",
       "      <td>...</td>\n",
       "      <td>-0.205672</td>\n",
       "      <td>-0.691691</td>\n",
       "      <td>0.086013</td>\n",
       "      <td>0.340113</td>\n",
       "      <td>-0.044541</td>\n",
       "      <td>0.079862</td>\n",
       "      <td>0.115401</td>\n",
       "      <td>0.021780</td>\n",
       "      <td>10.02</td>\n",
       "      <td>0</td>\n",
       "    </tr>\n",
       "    <tr>\n",
       "      <th>120826</th>\n",
       "      <td>75974.0</td>\n",
       "      <td>1.374184</td>\n",
       "      <td>-0.954054</td>\n",
       "      <td>0.280265</td>\n",
       "      <td>-1.507286</td>\n",
       "      <td>-1.074885</td>\n",
       "      <td>-0.365597</td>\n",
       "      <td>-0.730120</td>\n",
       "      <td>-0.081545</td>\n",
       "      <td>-2.477872</td>\n",
       "      <td>...</td>\n",
       "      <td>-0.534463</td>\n",
       "      <td>-1.272519</td>\n",
       "      <td>0.265648</td>\n",
       "      <td>-0.048425</td>\n",
       "      <td>0.003267</td>\n",
       "      <td>-0.635907</td>\n",
       "      <td>0.030017</td>\n",
       "      <td>0.019229</td>\n",
       "      <td>49.00</td>\n",
       "      <td>0</td>\n",
       "    </tr>\n",
       "    <tr>\n",
       "      <th>34876</th>\n",
       "      <td>37864.0</td>\n",
       "      <td>-3.968394</td>\n",
       "      <td>-4.439733</td>\n",
       "      <td>-0.359330</td>\n",
       "      <td>-0.437723</td>\n",
       "      <td>3.108932</td>\n",
       "      <td>-2.899075</td>\n",
       "      <td>-2.499521</td>\n",
       "      <td>0.997295</td>\n",
       "      <td>1.825611</td>\n",
       "      <td>...</td>\n",
       "      <td>0.389388</td>\n",
       "      <td>-0.481852</td>\n",
       "      <td>-0.177248</td>\n",
       "      <td>-0.885987</td>\n",
       "      <td>0.118788</td>\n",
       "      <td>-0.775893</td>\n",
       "      <td>0.272131</td>\n",
       "      <td>-0.759416</td>\n",
       "      <td>15.00</td>\n",
       "      <td>0</td>\n",
       "    </tr>\n",
       "    <tr>\n",
       "      <th>159626</th>\n",
       "      <td>112738.0</td>\n",
       "      <td>-2.461729</td>\n",
       "      <td>2.891215</td>\n",
       "      <td>-2.422770</td>\n",
       "      <td>-1.533162</td>\n",
       "      <td>0.346870</td>\n",
       "      <td>-1.182219</td>\n",
       "      <td>0.683252</td>\n",
       "      <td>0.853793</td>\n",
       "      <td>0.177228</td>\n",
       "      <td>...</td>\n",
       "      <td>0.137672</td>\n",
       "      <td>0.947023</td>\n",
       "      <td>-0.040349</td>\n",
       "      <td>0.740068</td>\n",
       "      <td>0.002104</td>\n",
       "      <td>-0.011041</td>\n",
       "      <td>0.030379</td>\n",
       "      <td>-0.284215</td>\n",
       "      <td>3.66</td>\n",
       "      <td>0</td>\n",
       "    </tr>\n",
       "    <tr>\n",
       "      <th>232228</th>\n",
       "      <td>147089.0</td>\n",
       "      <td>2.127806</td>\n",
       "      <td>0.007385</td>\n",
       "      <td>-1.516515</td>\n",
       "      <td>0.115556</td>\n",
       "      <td>0.587189</td>\n",
       "      <td>-0.336870</td>\n",
       "      <td>0.188627</td>\n",
       "      <td>-0.256268</td>\n",
       "      <td>0.405091</td>\n",
       "      <td>...</td>\n",
       "      <td>-0.331552</td>\n",
       "      <td>-0.798913</td>\n",
       "      <td>0.270256</td>\n",
       "      <td>0.062298</td>\n",
       "      <td>-0.140083</td>\n",
       "      <td>0.204408</td>\n",
       "      <td>-0.068981</td>\n",
       "      <td>-0.058146</td>\n",
       "      <td>0.99</td>\n",
       "      <td>0</td>\n",
       "    </tr>\n",
       "  </tbody>\n",
       "</table>\n",
       "<p>492 rows × 31 columns</p>\n",
       "</div>"
      ],
      "text/plain": [
       "            Time        V1        V2        V3        V4        V5        V6  \\\n",
       "162213  114934.0  1.995938  0.041506 -1.626617  0.359730  0.328712 -0.670507   \n",
       "75678    56197.0  0.945842 -0.400033 -0.554717  1.778090  1.832547  4.439277   \n",
       "279712  169046.0  1.735539 -0.483406 -0.845973  1.402665  0.185065  0.613135   \n",
       "88272    62068.0  1.253755 -0.657127  0.411747 -1.468090 -0.877031 -0.330262   \n",
       "231933  146985.0  0.242337  0.805488 -0.118981  0.734465  1.330932 -1.084600   \n",
       "...          ...       ...       ...       ...       ...       ...       ...   \n",
       "102043   68032.0 -1.267253  1.815509  0.462275  0.091032 -0.596431 -1.094155   \n",
       "120826   75974.0  1.374184 -0.954054  0.280265 -1.507286 -1.074885 -0.365597   \n",
       "34876    37864.0 -3.968394 -4.439733 -0.359330 -0.437723  3.108932 -2.899075   \n",
       "159626  112738.0 -2.461729  2.891215 -2.422770 -1.533162  0.346870 -1.182219   \n",
       "232228  147089.0  2.127806  0.007385 -1.516515  0.115556  0.587189 -0.336870   \n",
       "\n",
       "              V7        V8        V9  ...       V21       V22       V23  \\\n",
       "162213  0.070409 -0.077927  0.290942  ... -0.298886 -0.842195  0.345810   \n",
       "75678  -0.716450  1.068586  0.011658  ... -0.111339 -0.472340 -0.201955   \n",
       "279712 -0.052874  0.017813  0.987641  ... -0.476199 -1.326599  0.262618   \n",
       "88272  -0.597605 -0.011242  1.955442  ... -0.055549 -0.003120 -0.182191   \n",
       "231933  1.476898 -0.574761 -0.408175  ...  0.126925  0.720698 -0.202297   \n",
       "...          ...       ...       ...  ...       ...       ...       ...   \n",
       "102043  0.028623  0.757142 -0.622535  ... -0.205672 -0.691691  0.086013   \n",
       "120826 -0.730120 -0.081545 -2.477872  ... -0.534463 -1.272519  0.265648   \n",
       "34876  -2.499521  0.997295  1.825611  ...  0.389388 -0.481852 -0.177248   \n",
       "159626  0.683252  0.853793  0.177228  ...  0.137672  0.947023 -0.040349   \n",
       "232228  0.188627 -0.256268  0.405091  ... -0.331552 -0.798913  0.270256   \n",
       "\n",
       "             V24       V25       V26       V27       V28  Amount  Class  \n",
       "162213  0.657588 -0.333355  0.142894 -0.071543 -0.037694   13.48      0  \n",
       "75678   1.025456  0.688154  0.063892  0.006502  0.038923  127.78      0  \n",
       "279712 -0.016740 -0.221760 -1.111037  0.036587 -0.005262  137.48      0  \n",
       "88272  -0.550678  0.489173  0.029340  0.037419  0.024202   48.40      0  \n",
       "231933  0.005675 -0.187671 -0.574096 -0.031813 -0.121123    1.00      0  \n",
       "...          ...       ...       ...       ...       ...     ...    ...  \n",
       "102043  0.340113 -0.044541  0.079862  0.115401  0.021780   10.02      0  \n",
       "120826 -0.048425  0.003267 -0.635907  0.030017  0.019229   49.00      0  \n",
       "34876  -0.885987  0.118788 -0.775893  0.272131 -0.759416   15.00      0  \n",
       "159626  0.740068  0.002104 -0.011041  0.030379 -0.284215    3.66      0  \n",
       "232228  0.062298 -0.140083  0.204408 -0.068981 -0.058146    0.99      0  \n",
       "\n",
       "[492 rows x 31 columns]"
      ]
     },
     "execution_count": 106,
     "metadata": {},
     "output_type": "execute_result"
    }
   ],
   "source": [
    "not_fraud_data_downsampled"
   ]
  },
  {
   "cell_type": "code",
   "execution_count": 107,
   "id": "edce61df-77f2-4eda-8831-8d23d5e02ebf",
   "metadata": {},
   "outputs": [],
   "source": [
    "downsampled = pd.concat([not_fraud_data_downsampled,fraud])"
   ]
  },
  {
   "cell_type": "code",
   "execution_count": 109,
   "id": "66460bb9-df37-4a14-b94d-13849f0f6fd6",
   "metadata": {},
   "outputs": [
    {
     "name": "stdout",
     "output_type": "stream",
     "text": [
      "Column Name: Class\n"
     ]
    },
    {
     "data": {
      "text/html": [
       "<div>\n",
       "<style scoped>\n",
       "    .dataframe tbody tr th:only-of-type {\n",
       "        vertical-align: middle;\n",
       "    }\n",
       "\n",
       "    .dataframe tbody tr th {\n",
       "        vertical-align: top;\n",
       "    }\n",
       "\n",
       "    .dataframe thead th {\n",
       "        text-align: right;\n",
       "    }\n",
       "</style>\n",
       "<table border=\"1\" class=\"dataframe\">\n",
       "  <thead>\n",
       "    <tr style=\"text-align: right;\">\n",
       "      <th></th>\n",
       "      <th>value_counts</th>\n",
       "      <th>Percentage</th>\n",
       "    </tr>\n",
       "  </thead>\n",
       "  <tbody>\n",
       "    <tr>\n",
       "      <th>0</th>\n",
       "      <td>492</td>\n",
       "      <td>50.0</td>\n",
       "    </tr>\n",
       "    <tr>\n",
       "      <th>1</th>\n",
       "      <td>492</td>\n",
       "      <td>50.0</td>\n",
       "    </tr>\n",
       "  </tbody>\n",
       "</table>\n",
       "</div>"
      ],
      "text/plain": [
       "   value_counts  Percentage\n",
       "0           492        50.0\n",
       "1           492        50.0"
      ]
     },
     "execution_count": 109,
     "metadata": {},
     "output_type": "execute_result"
    }
   ],
   "source": [
    "unique_values(downsampled, 'Class')"
   ]
  },
  {
   "cell_type": "code",
   "execution_count": 110,
   "id": "f2dce7ab-ad8f-4ea9-8e06-36b8e3de016f",
   "metadata": {},
   "outputs": [],
   "source": [
    "X = downsampled.iloc[:,:-1]\n",
    "y = downsampled.iloc[:,-1]"
   ]
  },
  {
   "cell_type": "code",
   "execution_count": 111,
   "id": "6a2b78cc-48ee-4d1e-868b-3cad917a8680",
   "metadata": {},
   "outputs": [],
   "source": [
    "X_train, X_test, y_train, y_test = train_test_split(X,y, test_size=0.25, random_state=50)"
   ]
  },
  {
   "cell_type": "markdown",
   "id": "6977f8f3-bfcb-443f-b828-87fff96e7dd7",
   "metadata": {},
   "source": [
    "#### Logistic Regression"
   ]
  },
  {
   "cell_type": "code",
   "execution_count": 112,
   "id": "b8a44ec0-e4f1-4eae-91dd-99343cefca23",
   "metadata": {},
   "outputs": [
    {
     "data": {
      "text/html": [
       "<style>#sk-container-id-7 {color: black;background-color: white;}#sk-container-id-7 pre{padding: 0;}#sk-container-id-7 div.sk-toggleable {background-color: white;}#sk-container-id-7 label.sk-toggleable__label {cursor: pointer;display: block;width: 100%;margin-bottom: 0;padding: 0.3em;box-sizing: border-box;text-align: center;}#sk-container-id-7 label.sk-toggleable__label-arrow:before {content: \"▸\";float: left;margin-right: 0.25em;color: #696969;}#sk-container-id-7 label.sk-toggleable__label-arrow:hover:before {color: black;}#sk-container-id-7 div.sk-estimator:hover label.sk-toggleable__label-arrow:before {color: black;}#sk-container-id-7 div.sk-toggleable__content {max-height: 0;max-width: 0;overflow: hidden;text-align: left;background-color: #f0f8ff;}#sk-container-id-7 div.sk-toggleable__content pre {margin: 0.2em;color: black;border-radius: 0.25em;background-color: #f0f8ff;}#sk-container-id-7 input.sk-toggleable__control:checked~div.sk-toggleable__content {max-height: 200px;max-width: 100%;overflow: auto;}#sk-container-id-7 input.sk-toggleable__control:checked~label.sk-toggleable__label-arrow:before {content: \"▾\";}#sk-container-id-7 div.sk-estimator input.sk-toggleable__control:checked~label.sk-toggleable__label {background-color: #d4ebff;}#sk-container-id-7 div.sk-label input.sk-toggleable__control:checked~label.sk-toggleable__label {background-color: #d4ebff;}#sk-container-id-7 input.sk-hidden--visually {border: 0;clip: rect(1px 1px 1px 1px);clip: rect(1px, 1px, 1px, 1px);height: 1px;margin: -1px;overflow: hidden;padding: 0;position: absolute;width: 1px;}#sk-container-id-7 div.sk-estimator {font-family: monospace;background-color: #f0f8ff;border: 1px dotted black;border-radius: 0.25em;box-sizing: border-box;margin-bottom: 0.5em;}#sk-container-id-7 div.sk-estimator:hover {background-color: #d4ebff;}#sk-container-id-7 div.sk-parallel-item::after {content: \"\";width: 100%;border-bottom: 1px solid gray;flex-grow: 1;}#sk-container-id-7 div.sk-label:hover label.sk-toggleable__label {background-color: #d4ebff;}#sk-container-id-7 div.sk-serial::before {content: \"\";position: absolute;border-left: 1px solid gray;box-sizing: border-box;top: 0;bottom: 0;left: 50%;z-index: 0;}#sk-container-id-7 div.sk-serial {display: flex;flex-direction: column;align-items: center;background-color: white;padding-right: 0.2em;padding-left: 0.2em;position: relative;}#sk-container-id-7 div.sk-item {position: relative;z-index: 1;}#sk-container-id-7 div.sk-parallel {display: flex;align-items: stretch;justify-content: center;background-color: white;position: relative;}#sk-container-id-7 div.sk-item::before, #sk-container-id-7 div.sk-parallel-item::before {content: \"\";position: absolute;border-left: 1px solid gray;box-sizing: border-box;top: 0;bottom: 0;left: 50%;z-index: -1;}#sk-container-id-7 div.sk-parallel-item {display: flex;flex-direction: column;z-index: 1;position: relative;background-color: white;}#sk-container-id-7 div.sk-parallel-item:first-child::after {align-self: flex-end;width: 50%;}#sk-container-id-7 div.sk-parallel-item:last-child::after {align-self: flex-start;width: 50%;}#sk-container-id-7 div.sk-parallel-item:only-child::after {width: 0;}#sk-container-id-7 div.sk-dashed-wrapped {border: 1px dashed gray;margin: 0 0.4em 0.5em 0.4em;box-sizing: border-box;padding-bottom: 0.4em;background-color: white;}#sk-container-id-7 div.sk-label label {font-family: monospace;font-weight: bold;display: inline-block;line-height: 1.2em;}#sk-container-id-7 div.sk-label-container {text-align: center;}#sk-container-id-7 div.sk-container {/* jupyter's `normalize.less` sets `[hidden] { display: none; }` but bootstrap.min.css set `[hidden] { display: none !important; }` so we also need the `!important` here to be able to override the default hidden behavior on the sphinx rendered scikit-learn.org. See: https://github.com/scikit-learn/scikit-learn/issues/21755 */display: inline-block !important;position: relative;}#sk-container-id-7 div.sk-text-repr-fallback {display: none;}</style><div id=\"sk-container-id-7\" class=\"sk-top-container\"><div class=\"sk-text-repr-fallback\"><pre>LogisticRegression(solver=&#x27;liblinear&#x27;)</pre><b>In a Jupyter environment, please rerun this cell to show the HTML representation or trust the notebook. <br />On GitHub, the HTML representation is unable to render, please try loading this page with nbviewer.org.</b></div><div class=\"sk-container\" hidden><div class=\"sk-item\"><div class=\"sk-estimator sk-toggleable\"><input class=\"sk-toggleable__control sk-hidden--visually\" id=\"sk-estimator-id-7\" type=\"checkbox\" checked><label for=\"sk-estimator-id-7\" class=\"sk-toggleable__label sk-toggleable__label-arrow\">LogisticRegression</label><div class=\"sk-toggleable__content\"><pre>LogisticRegression(solver=&#x27;liblinear&#x27;)</pre></div></div></div></div></div>"
      ],
      "text/plain": [
       "LogisticRegression(solver='liblinear')"
      ]
     },
     "execution_count": 112,
     "metadata": {},
     "output_type": "execute_result"
    }
   ],
   "source": [
    "Log_reg = LogisticRegression(solver='liblinear').fit(X_train, y_train)\n",
    "Log_reg"
   ]
  },
  {
   "cell_type": "code",
   "execution_count": 113,
   "id": "d45f31b4-5401-4007-a42f-9c26aad89b96",
   "metadata": {},
   "outputs": [],
   "source": [
    "log_predict = Log_reg.predict(X_test)"
   ]
  },
  {
   "cell_type": "code",
   "execution_count": 114,
   "id": "28334505-ef81-49ce-b962-4bd9ab058542",
   "metadata": {},
   "outputs": [
    {
     "data": {
      "text/plain": [
       "0.9390243902439024"
      ]
     },
     "execution_count": 114,
     "metadata": {},
     "output_type": "execute_result"
    }
   ],
   "source": [
    "accuracy_score(y_test, log_predict)"
   ]
  },
  {
   "cell_type": "code",
   "execution_count": 115,
   "id": "e97c7fff-3119-4674-9d60-9f2a9e4b8a41",
   "metadata": {},
   "outputs": [
    {
     "data": {
      "text/plain": [
       "array([[118,   0],\n",
       "       [ 15, 113]], dtype=int64)"
      ]
     },
     "execution_count": 115,
     "metadata": {},
     "output_type": "execute_result"
    }
   ],
   "source": [
    "confusion_matrix(y_test, log_predict)"
   ]
  },
  {
   "cell_type": "code",
   "execution_count": 116,
   "id": "11042c1c-b6ab-4085-9b32-f8221d0d6ae7",
   "metadata": {},
   "outputs": [
    {
     "data": {
      "text/plain": [
       "0.9377593360995851"
      ]
     },
     "execution_count": 116,
     "metadata": {},
     "output_type": "execute_result"
    }
   ],
   "source": [
    "f1_score(y_test, log_predict)"
   ]
  },
  {
   "cell_type": "code",
   "execution_count": 117,
   "id": "5590c035-d8c6-4c53-974e-280a61d24f34",
   "metadata": {},
   "outputs": [
    {
     "data": {
      "text/plain": [
       "0.8828125"
      ]
     },
     "execution_count": 117,
     "metadata": {},
     "output_type": "execute_result"
    }
   ],
   "source": [
    "recall_score(y_test, log_predict)"
   ]
  },
  {
   "cell_type": "markdown",
   "id": "56a38fde-428c-4b68-b399-7c109f0b1b42",
   "metadata": {},
   "source": [
    "#### Random Forest"
   ]
  },
  {
   "cell_type": "code",
   "execution_count": 118,
   "id": "7a48f34a-4cda-4092-9b21-f8b6aec2d044",
   "metadata": {},
   "outputs": [],
   "source": [
    "rfc = RandomForestClassifier()\n",
    "rfc_fit = rfc.fit(X_train,y_train)\n",
    "random_forest_predict = rfc.predict(X_test)"
   ]
  },
  {
   "cell_type": "code",
   "execution_count": 119,
   "id": "f9dd9060-4f7d-488b-8be4-92a3715b5696",
   "metadata": {},
   "outputs": [
    {
     "data": {
      "text/plain": [
       "0.9186991869918699"
      ]
     },
     "execution_count": 119,
     "metadata": {},
     "output_type": "execute_result"
    }
   ],
   "source": [
    "accuracy_score(y_test, random_forest_predict)"
   ]
  },
  {
   "cell_type": "code",
   "execution_count": 120,
   "id": "d715aba9-b9ef-4bec-8df0-a0803cf8668a",
   "metadata": {},
   "outputs": [
    {
     "data": {
      "text/plain": [
       "array([[114,   4],\n",
       "       [ 16, 112]], dtype=int64)"
      ]
     },
     "execution_count": 120,
     "metadata": {},
     "output_type": "execute_result"
    }
   ],
   "source": [
    "confusion_matrix(y_test,random_forest_predict)"
   ]
  },
  {
   "cell_type": "code",
   "execution_count": 121,
   "id": "bce58b7a-9868-49a9-bd2a-e11b9b5c78bc",
   "metadata": {},
   "outputs": [
    {
     "data": {
      "text/plain": [
       "0.9180327868852458"
      ]
     },
     "execution_count": 121,
     "metadata": {},
     "output_type": "execute_result"
    }
   ],
   "source": [
    "f1_score(y_test, random_forest_predict)"
   ]
  },
  {
   "cell_type": "code",
   "execution_count": 122,
   "id": "364b897b-2910-41a2-8d3c-aec814d48253",
   "metadata": {},
   "outputs": [
    {
     "data": {
      "text/plain": [
       "0.875"
      ]
     },
     "execution_count": 122,
     "metadata": {},
     "output_type": "execute_result"
    }
   ],
   "source": [
    "recall_score(y_test, random_forest_predict)"
   ]
  },
  {
   "cell_type": "markdown",
   "id": "8f196002-a312-4eb8-8039-20c634294f31",
   "metadata": {},
   "source": [
    "## SMOTE "
   ]
  },
  {
   "cell_type": "markdown",
   "id": "1add1057-238f-4e74-8ea1-7efaaaada8ba",
   "metadata": {},
   "source": [
    "Synthetic Minority Oversampling Technique"
   ]
  },
  {
   "cell_type": "code",
   "execution_count": 124,
   "id": "fbe10894-93ce-4508-b07c-11ef5faaccea",
   "metadata": {},
   "outputs": [],
   "source": [
    "# !pip install SMOTE"
   ]
  },
  {
   "cell_type": "code",
   "execution_count": 22,
   "id": "c5287e02-df37-46f5-9579-8841e385018a",
   "metadata": {},
   "outputs": [],
   "source": [
    "from imblearn.over_sampling import SMOTE"
   ]
  },
  {
   "cell_type": "code",
   "execution_count": 23,
   "id": "54fee0f4-b894-4cb2-a3b5-0d8caf9ba672",
   "metadata": {},
   "outputs": [
    {
     "data": {
      "text/html": [
       "<div>\n",
       "<style scoped>\n",
       "    .dataframe tbody tr th:only-of-type {\n",
       "        vertical-align: middle;\n",
       "    }\n",
       "\n",
       "    .dataframe tbody tr th {\n",
       "        vertical-align: top;\n",
       "    }\n",
       "\n",
       "    .dataframe thead th {\n",
       "        text-align: right;\n",
       "    }\n",
       "</style>\n",
       "<table border=\"1\" class=\"dataframe\">\n",
       "  <thead>\n",
       "    <tr style=\"text-align: right;\">\n",
       "      <th></th>\n",
       "      <th>Time</th>\n",
       "      <th>V1</th>\n",
       "      <th>V2</th>\n",
       "      <th>V3</th>\n",
       "      <th>V4</th>\n",
       "      <th>V5</th>\n",
       "      <th>V6</th>\n",
       "      <th>V7</th>\n",
       "      <th>V8</th>\n",
       "      <th>V9</th>\n",
       "      <th>...</th>\n",
       "      <th>V20</th>\n",
       "      <th>V21</th>\n",
       "      <th>V22</th>\n",
       "      <th>V23</th>\n",
       "      <th>V24</th>\n",
       "      <th>V25</th>\n",
       "      <th>V26</th>\n",
       "      <th>V27</th>\n",
       "      <th>V28</th>\n",
       "      <th>Amount</th>\n",
       "    </tr>\n",
       "  </thead>\n",
       "  <tbody>\n",
       "    <tr>\n",
       "      <th>0</th>\n",
       "      <td>0.0</td>\n",
       "      <td>-1.359807</td>\n",
       "      <td>-0.072781</td>\n",
       "      <td>2.536347</td>\n",
       "      <td>1.378155</td>\n",
       "      <td>-0.338321</td>\n",
       "      <td>0.462388</td>\n",
       "      <td>0.239599</td>\n",
       "      <td>0.098698</td>\n",
       "      <td>0.363787</td>\n",
       "      <td>...</td>\n",
       "      <td>0.251412</td>\n",
       "      <td>-0.018307</td>\n",
       "      <td>0.277838</td>\n",
       "      <td>-0.110474</td>\n",
       "      <td>0.066928</td>\n",
       "      <td>0.128539</td>\n",
       "      <td>-0.189115</td>\n",
       "      <td>0.133558</td>\n",
       "      <td>-0.021053</td>\n",
       "      <td>149.62</td>\n",
       "    </tr>\n",
       "    <tr>\n",
       "      <th>1</th>\n",
       "      <td>0.0</td>\n",
       "      <td>1.191857</td>\n",
       "      <td>0.266151</td>\n",
       "      <td>0.166480</td>\n",
       "      <td>0.448154</td>\n",
       "      <td>0.060018</td>\n",
       "      <td>-0.082361</td>\n",
       "      <td>-0.078803</td>\n",
       "      <td>0.085102</td>\n",
       "      <td>-0.255425</td>\n",
       "      <td>...</td>\n",
       "      <td>-0.069083</td>\n",
       "      <td>-0.225775</td>\n",
       "      <td>-0.638672</td>\n",
       "      <td>0.101288</td>\n",
       "      <td>-0.339846</td>\n",
       "      <td>0.167170</td>\n",
       "      <td>0.125895</td>\n",
       "      <td>-0.008983</td>\n",
       "      <td>0.014724</td>\n",
       "      <td>2.69</td>\n",
       "    </tr>\n",
       "    <tr>\n",
       "      <th>2</th>\n",
       "      <td>1.0</td>\n",
       "      <td>-1.358354</td>\n",
       "      <td>-1.340163</td>\n",
       "      <td>1.773209</td>\n",
       "      <td>0.379780</td>\n",
       "      <td>-0.503198</td>\n",
       "      <td>1.800499</td>\n",
       "      <td>0.791461</td>\n",
       "      <td>0.247676</td>\n",
       "      <td>-1.514654</td>\n",
       "      <td>...</td>\n",
       "      <td>0.524980</td>\n",
       "      <td>0.247998</td>\n",
       "      <td>0.771679</td>\n",
       "      <td>0.909412</td>\n",
       "      <td>-0.689281</td>\n",
       "      <td>-0.327642</td>\n",
       "      <td>-0.139097</td>\n",
       "      <td>-0.055353</td>\n",
       "      <td>-0.059752</td>\n",
       "      <td>378.66</td>\n",
       "    </tr>\n",
       "    <tr>\n",
       "      <th>3</th>\n",
       "      <td>1.0</td>\n",
       "      <td>-0.966272</td>\n",
       "      <td>-0.185226</td>\n",
       "      <td>1.792993</td>\n",
       "      <td>-0.863291</td>\n",
       "      <td>-0.010309</td>\n",
       "      <td>1.247203</td>\n",
       "      <td>0.237609</td>\n",
       "      <td>0.377436</td>\n",
       "      <td>-1.387024</td>\n",
       "      <td>...</td>\n",
       "      <td>-0.208038</td>\n",
       "      <td>-0.108300</td>\n",
       "      <td>0.005274</td>\n",
       "      <td>-0.190321</td>\n",
       "      <td>-1.175575</td>\n",
       "      <td>0.647376</td>\n",
       "      <td>-0.221929</td>\n",
       "      <td>0.062723</td>\n",
       "      <td>0.061458</td>\n",
       "      <td>123.50</td>\n",
       "    </tr>\n",
       "    <tr>\n",
       "      <th>4</th>\n",
       "      <td>2.0</td>\n",
       "      <td>-1.158233</td>\n",
       "      <td>0.877737</td>\n",
       "      <td>1.548718</td>\n",
       "      <td>0.403034</td>\n",
       "      <td>-0.407193</td>\n",
       "      <td>0.095921</td>\n",
       "      <td>0.592941</td>\n",
       "      <td>-0.270533</td>\n",
       "      <td>0.817739</td>\n",
       "      <td>...</td>\n",
       "      <td>0.408542</td>\n",
       "      <td>-0.009431</td>\n",
       "      <td>0.798278</td>\n",
       "      <td>-0.137458</td>\n",
       "      <td>0.141267</td>\n",
       "      <td>-0.206010</td>\n",
       "      <td>0.502292</td>\n",
       "      <td>0.219422</td>\n",
       "      <td>0.215153</td>\n",
       "      <td>69.99</td>\n",
       "    </tr>\n",
       "  </tbody>\n",
       "</table>\n",
       "<p>5 rows × 30 columns</p>\n",
       "</div>"
      ],
      "text/plain": [
       "   Time        V1        V2        V3        V4        V5        V6        V7  \\\n",
       "0   0.0 -1.359807 -0.072781  2.536347  1.378155 -0.338321  0.462388  0.239599   \n",
       "1   0.0  1.191857  0.266151  0.166480  0.448154  0.060018 -0.082361 -0.078803   \n",
       "2   1.0 -1.358354 -1.340163  1.773209  0.379780 -0.503198  1.800499  0.791461   \n",
       "3   1.0 -0.966272 -0.185226  1.792993 -0.863291 -0.010309  1.247203  0.237609   \n",
       "4   2.0 -1.158233  0.877737  1.548718  0.403034 -0.407193  0.095921  0.592941   \n",
       "\n",
       "         V8        V9  ...       V20       V21       V22       V23       V24  \\\n",
       "0  0.098698  0.363787  ...  0.251412 -0.018307  0.277838 -0.110474  0.066928   \n",
       "1  0.085102 -0.255425  ... -0.069083 -0.225775 -0.638672  0.101288 -0.339846   \n",
       "2  0.247676 -1.514654  ...  0.524980  0.247998  0.771679  0.909412 -0.689281   \n",
       "3  0.377436 -1.387024  ... -0.208038 -0.108300  0.005274 -0.190321 -1.175575   \n",
       "4 -0.270533  0.817739  ...  0.408542 -0.009431  0.798278 -0.137458  0.141267   \n",
       "\n",
       "        V25       V26       V27       V28  Amount  \n",
       "0  0.128539 -0.189115  0.133558 -0.021053  149.62  \n",
       "1  0.167170  0.125895 -0.008983  0.014724    2.69  \n",
       "2 -0.327642 -0.139097 -0.055353 -0.059752  378.66  \n",
       "3  0.647376 -0.221929  0.062723  0.061458  123.50  \n",
       "4 -0.206010  0.502292  0.219422  0.215153   69.99  \n",
       "\n",
       "[5 rows x 30 columns]"
      ]
     },
     "execution_count": 23,
     "metadata": {},
     "output_type": "execute_result"
    }
   ],
   "source": [
    "X.head()"
   ]
  },
  {
   "cell_type": "code",
   "execution_count": 24,
   "id": "9ba890e5-db43-495e-b168-bbb92bed0eab",
   "metadata": {},
   "outputs": [
    {
     "data": {
      "text/plain": [
       "274910    0\n",
       "182967    0\n",
       "272280    0\n",
       "212390    0\n",
       "215013    0\n",
       "Name: Class, dtype: int64"
      ]
     },
     "execution_count": 24,
     "metadata": {},
     "output_type": "execute_result"
    }
   ],
   "source": [
    "y.sample(5)"
   ]
  },
  {
   "cell_type": "code",
   "execution_count": 25,
   "id": "10bb46c5-14c2-45ba-9a8c-5764eb0064c6",
   "metadata": {},
   "outputs": [],
   "source": [
    "sm = SMOTE(random_state=27)"
   ]
  },
  {
   "cell_type": "code",
   "execution_count": 28,
   "id": "e524e839-484c-4e03-925e-cbc50633790f",
   "metadata": {},
   "outputs": [],
   "source": [
    "X_train,y_train = sm.fit_resample(X_train, y_train)"
   ]
  },
  {
   "cell_type": "code",
   "execution_count": 29,
   "id": "19e9ab4a-a1b4-4151-98d3-503a65058959",
   "metadata": {},
   "outputs": [],
   "source": [
    "from sklearn.linear_model import LogisticRegression"
   ]
  },
  {
   "cell_type": "code",
   "execution_count": 30,
   "id": "ff8ff72a-f683-4c59-9d9d-11d2c12d2672",
   "metadata": {},
   "outputs": [
    {
     "data": {
      "text/plain": [
       "0.9841437038285441"
      ]
     },
     "execution_count": 30,
     "metadata": {},
     "output_type": "execute_result"
    }
   ],
   "source": [
    "smote = LogisticRegression(solver='liblinear').fit(X_train, y_train)\n",
    "smote_pred = smote.predict(X_test)\n",
    "accuracy_score(y_test, smote_pred)"
   ]
  },
  {
   "cell_type": "code",
   "execution_count": 32,
   "id": "426a9b54-502d-4092-9723-1ec5f7aaaae4",
   "metadata": {},
   "outputs": [
    {
     "data": {
      "text/plain": [
       "array([[69975,  1114],\n",
       "       [   15,    98]], dtype=int64)"
      ]
     },
     "execution_count": 32,
     "metadata": {},
     "output_type": "execute_result"
    }
   ],
   "source": [
    "confusion_matrix(y_test, smote_pred)"
   ]
  },
  {
   "cell_type": "code",
   "execution_count": 33,
   "id": "18b47954-43ae-49c2-9e58-3092f4f519d2",
   "metadata": {},
   "outputs": [
    {
     "data": {
      "text/plain": [
       "0.8672566371681416"
      ]
     },
     "execution_count": 33,
     "metadata": {},
     "output_type": "execute_result"
    }
   ],
   "source": [
    "recall_score(y_test, smote_pred)"
   ]
  },
  {
   "cell_type": "code",
   "execution_count": 34,
   "id": "9c7a3d00-ffe8-44da-a2ca-55156b9ca6b5",
   "metadata": {},
   "outputs": [
    {
     "data": {
      "text/plain": [
       "0.1479245283018868"
      ]
     },
     "execution_count": 34,
     "metadata": {},
     "output_type": "execute_result"
    }
   ],
   "source": [
    "f1_score(y_test, smote_pred)"
   ]
  },
  {
   "cell_type": "code",
   "execution_count": null,
   "id": "e9693d55-0201-4563-9314-19ca3805fa18",
   "metadata": {},
   "outputs": [],
   "source": []
  }
 ],
 "metadata": {
  "kernelspec": {
   "display_name": "Python 3 (ipykernel)",
   "language": "python",
   "name": "python3"
  },
  "language_info": {
   "codemirror_mode": {
    "name": "ipython",
    "version": 3
   },
   "file_extension": ".py",
   "mimetype": "text/x-python",
   "name": "python",
   "nbconvert_exporter": "python",
   "pygments_lexer": "ipython3",
   "version": "3.10.8"
  }
 },
 "nbformat": 4,
 "nbformat_minor": 5
}
